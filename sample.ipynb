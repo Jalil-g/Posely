{
 "cells": [
  {
   "cell_type": "code",
   "execution_count": 1,
   "id": "initial_id",
   "metadata": {
    "collapsed": true,
    "ExecuteTime": {
     "end_time": "2024-01-27T17:45:50.630054600Z",
     "start_time": "2024-01-27T17:45:21.930244900Z"
    }
   },
   "outputs": [
    {
     "name": "stdout",
     "output_type": "stream",
     "text": [
      "Collecting mediapipe\n",
      "  Downloading mediapipe-0.10.9-cp38-cp38-win_amd64.whl.metadata (9.8 kB)\n",
      "Collecting opencv-python\n",
      "  Downloading opencv_python-4.9.0.80-cp37-abi3-win_amd64.whl.metadata (20 kB)\n",
      "Collecting absl-py (from mediapipe)\n",
      "  Downloading absl_py-2.1.0-py3-none-any.whl.metadata (2.3 kB)\n",
      "Requirement already satisfied: attrs>=19.1.0 in c:\\users\\asus\\anaconda3\\envs\\mchacks\\lib\\site-packages (from mediapipe) (23.1.0)\n",
      "Collecting flatbuffers>=2.0 (from mediapipe)\n",
      "  Downloading flatbuffers-23.5.26-py2.py3-none-any.whl.metadata (850 bytes)\n",
      "Collecting matplotlib (from mediapipe)\n",
      "  Using cached matplotlib-3.7.4-cp38-cp38-win_amd64.whl.metadata (5.8 kB)\n",
      "Requirement already satisfied: numpy in c:\\users\\asus\\anaconda3\\envs\\mchacks\\lib\\site-packages (from mediapipe) (1.24.3)\n",
      "Collecting opencv-contrib-python (from mediapipe)\n",
      "  Downloading opencv_contrib_python-4.9.0.80-cp37-abi3-win_amd64.whl.metadata (20 kB)\n",
      "Collecting protobuf<4,>=3.11 (from mediapipe)\n",
      "  Downloading protobuf-3.20.3-cp38-cp38-win_amd64.whl (904 kB)\n",
      "     ---------------------------------------- 0.0/904.4 kB ? eta -:--:--\n",
      "     ---- --------------------------------- 112.6/904.4 kB 2.2 MB/s eta 0:00:01\n",
      "     ---------------------- --------------- 532.5/904.4 kB 5.6 MB/s eta 0:00:01\n",
      "     -------------------------------------- 904.4/904.4 kB 7.2 MB/s eta 0:00:00\n",
      "Collecting sounddevice>=0.4.4 (from mediapipe)\n",
      "  Downloading sounddevice-0.4.6-py3-none-win_amd64.whl (199 kB)\n",
      "     ---------------------------------------- 0.0/199.7 kB ? eta -:--:--\n",
      "     ---------------------------------------- 199.7/199.7 kB ? eta 0:00:00\n",
      "Requirement already satisfied: CFFI>=1.0 in c:\\users\\asus\\anaconda3\\envs\\mchacks\\lib\\site-packages (from sounddevice>=0.4.4->mediapipe) (1.16.0)\n",
      "Collecting contourpy>=1.0.1 (from matplotlib->mediapipe)\n",
      "  Using cached contourpy-1.1.1-cp38-cp38-win_amd64.whl.metadata (5.9 kB)\n",
      "Collecting cycler>=0.10 (from matplotlib->mediapipe)\n",
      "  Using cached cycler-0.12.1-py3-none-any.whl.metadata (3.8 kB)\n",
      "Collecting fonttools>=4.22.0 (from matplotlib->mediapipe)\n",
      "  Using cached fonttools-4.47.2-cp38-cp38-win_amd64.whl.metadata (160 kB)\n",
      "Collecting kiwisolver>=1.0.1 (from matplotlib->mediapipe)\n",
      "  Using cached kiwisolver-1.4.5-cp38-cp38-win_amd64.whl.metadata (6.5 kB)\n",
      "Requirement already satisfied: packaging>=20.0 in c:\\users\\asus\\anaconda3\\envs\\mchacks\\lib\\site-packages (from matplotlib->mediapipe) (23.1)\n",
      "Collecting pillow>=6.2.0 (from matplotlib->mediapipe)\n",
      "  Using cached pillow-10.2.0-cp38-cp38-win_amd64.whl.metadata (9.9 kB)\n",
      "Collecting pyparsing>=2.3.1 (from matplotlib->mediapipe)\n",
      "  Using cached pyparsing-3.1.1-py3-none-any.whl.metadata (5.1 kB)\n",
      "Requirement already satisfied: python-dateutil>=2.7 in c:\\users\\asus\\anaconda3\\envs\\mchacks\\lib\\site-packages (from matplotlib->mediapipe) (2.8.2)\n",
      "Requirement already satisfied: importlib-resources>=3.2.0 in c:\\users\\asus\\anaconda3\\envs\\mchacks\\lib\\site-packages (from matplotlib->mediapipe) (6.1.1)\n",
      "Requirement already satisfied: pycparser in c:\\users\\asus\\anaconda3\\envs\\mchacks\\lib\\site-packages (from CFFI>=1.0->sounddevice>=0.4.4->mediapipe) (2.21)\n",
      "Requirement already satisfied: zipp>=3.1.0 in c:\\users\\asus\\anaconda3\\envs\\mchacks\\lib\\site-packages (from importlib-resources>=3.2.0->matplotlib->mediapipe) (3.17.0)\n",
      "Requirement already satisfied: six>=1.5 in c:\\users\\asus\\anaconda3\\envs\\mchacks\\lib\\site-packages (from python-dateutil>=2.7->matplotlib->mediapipe) (1.16.0)\n",
      "Downloading mediapipe-0.10.9-cp38-cp38-win_amd64.whl (50.5 MB)\n",
      "   ---------------------------------------- 0.0/50.5 MB ? eta -:--:--\n",
      "   - -------------------------------------- 1.4/50.5 MB 28.8 MB/s eta 0:00:02\n",
      "   -- ------------------------------------- 2.6/50.5 MB 27.8 MB/s eta 0:00:02\n",
      "   -- ------------------------------------- 3.5/50.5 MB 24.8 MB/s eta 0:00:02\n",
      "   -- ------------------------------------- 3.6/50.5 MB 25.4 MB/s eta 0:00:02\n",
      "   --- ------------------------------------ 4.2/50.5 MB 17.8 MB/s eta 0:00:03\n",
      "   ---- ----------------------------------- 5.5/50.5 MB 19.4 MB/s eta 0:00:03\n",
      "   ---- ----------------------------------- 6.3/50.5 MB 19.1 MB/s eta 0:00:03\n",
      "   ------ --------------------------------- 7.6/50.5 MB 20.3 MB/s eta 0:00:03\n",
      "   ------ --------------------------------- 8.8/50.5 MB 20.8 MB/s eta 0:00:03\n",
      "   ------- -------------------------------- 10.0/50.5 MB 21.4 MB/s eta 0:00:02\n",
      "   --------- ------------------------------ 11.6/50.5 MB 21.1 MB/s eta 0:00:02\n",
      "   ---------- ----------------------------- 12.7/50.5 MB 21.1 MB/s eta 0:00:02\n",
      "   ----------- ---------------------------- 14.2/50.5 MB 25.2 MB/s eta 0:00:02\n",
      "   ------------ --------------------------- 15.4/50.5 MB 25.2 MB/s eta 0:00:02\n",
      "   ------------ --------------------------- 16.3/50.5 MB 25.2 MB/s eta 0:00:02\n",
      "   ------------- -------------------------- 17.4/50.5 MB 26.2 MB/s eta 0:00:02\n",
      "   -------------- ------------------------- 18.7/50.5 MB 25.2 MB/s eta 0:00:02\n",
      "   --------------- ------------------------ 19.8/50.5 MB 26.2 MB/s eta 0:00:02\n",
      "   ---------------- ----------------------- 20.8/50.5 MB 25.1 MB/s eta 0:00:02\n",
      "   ----------------- ---------------------- 21.6/50.5 MB 23.4 MB/s eta 0:00:02\n",
      "   ----------------- ---------------------- 22.0/50.5 MB 25.1 MB/s eta 0:00:02\n",
      "   ----------------- ---------------------- 22.0/50.5 MB 25.1 MB/s eta 0:00:02\n",
      "   ----------------- ---------------------- 22.0/50.5 MB 25.1 MB/s eta 0:00:02\n",
      "   ----------------- ---------------------- 22.0/50.5 MB 25.1 MB/s eta 0:00:02\n",
      "   ----------------- ---------------------- 22.0/50.5 MB 25.1 MB/s eta 0:00:02\n",
      "   ----------------- ---------------------- 22.3/50.5 MB 14.9 MB/s eta 0:00:02\n",
      "   ------------------ --------------------- 23.0/50.5 MB 14.6 MB/s eta 0:00:02\n",
      "   ------------------ --------------------- 23.8/50.5 MB 14.2 MB/s eta 0:00:02\n",
      "   ------------------- -------------------- 25.0/50.5 MB 13.9 MB/s eta 0:00:02\n",
      "   -------------------- ------------------- 25.6/50.5 MB 13.6 MB/s eta 0:00:02\n",
      "   --------------------- ------------------ 26.5/50.5 MB 13.6 MB/s eta 0:00:02\n",
      "   --------------------- ------------------ 27.3/50.5 MB 13.9 MB/s eta 0:00:02\n",
      "   --------------------- ------------------ 27.3/50.5 MB 13.9 MB/s eta 0:00:02\n",
      "   --------------------- ------------------ 27.4/50.5 MB 11.9 MB/s eta 0:00:02\n",
      "   ---------------------- ----------------- 28.8/50.5 MB 11.9 MB/s eta 0:00:02\n",
      "   ----------------------- ---------------- 30.0/50.5 MB 11.9 MB/s eta 0:00:02\n",
      "   ------------------------ --------------- 30.9/50.5 MB 11.9 MB/s eta 0:00:02\n",
      "   ------------------------ --------------- 31.5/50.5 MB 11.9 MB/s eta 0:00:02\n",
      "   ------------------------- -------------- 31.8/50.5 MB 11.5 MB/s eta 0:00:02\n",
      "   ------------------------- -------------- 32.7/50.5 MB 16.0 MB/s eta 0:00:02\n",
      "   -------------------------- ------------- 33.2/50.5 MB 16.0 MB/s eta 0:00:02\n",
      "   -------------------------- ------------- 34.0/50.5 MB 16.0 MB/s eta 0:00:02\n",
      "   --------------------------- ------------ 35.1/50.5 MB 15.6 MB/s eta 0:00:01\n",
      "   ---------------------------- ----------- 35.9/50.5 MB 15.6 MB/s eta 0:00:01\n",
      "   ---------------------------- ----------- 36.6/50.5 MB 15.6 MB/s eta 0:00:01\n",
      "   ----------------------------- ---------- 37.8/50.5 MB 18.2 MB/s eta 0:00:01\n",
      "   ------------------------------ --------- 39.0/50.5 MB 18.2 MB/s eta 0:00:01\n",
      "   -------------------------------- ------- 40.5/50.5 MB 18.2 MB/s eta 0:00:01\n",
      "   --------------------------------- ------ 41.7/50.5 MB 20.5 MB/s eta 0:00:01\n",
      "   ---------------------------------- ----- 43.0/50.5 MB 21.1 MB/s eta 0:00:01\n",
      "   ---------------------------------- ----- 44.2/50.5 MB 22.6 MB/s eta 0:00:01\n",
      "   ----------------------------------- ---- 44.9/50.5 MB 22.6 MB/s eta 0:00:01\n",
      "   ------------------------------------ --- 45.6/50.5 MB 21.8 MB/s eta 0:00:01\n",
      "   ------------------------------------- -- 46.8/50.5 MB 22.6 MB/s eta 0:00:01\n",
      "   -------------------------------------- - 48.2/50.5 MB 24.2 MB/s eta 0:00:01\n",
      "   ---------------------------------------  49.5/50.5 MB 24.2 MB/s eta 0:00:01\n",
      "   ---------------------------------------  50.5/50.5 MB 25.2 MB/s eta 0:00:01\n",
      "   ---------------------------------------  50.5/50.5 MB 25.2 MB/s eta 0:00:01\n",
      "   ---------------------------------------- 50.5/50.5 MB 19.3 MB/s eta 0:00:00\n",
      "Downloading opencv_python-4.9.0.80-cp37-abi3-win_amd64.whl (38.6 MB)\n",
      "   ---------------------------------------- 0.0/38.6 MB ? eta -:--:--\n",
      "   - -------------------------------------- 1.3/38.6 MB 27.4 MB/s eta 0:00:02\n",
      "   -- ------------------------------------- 2.4/38.6 MB 25.2 MB/s eta 0:00:02\n",
      "   --- ------------------------------------ 3.0/38.6 MB 24.2 MB/s eta 0:00:02\n",
      "   --- ------------------------------------ 3.6/38.6 MB 19.3 MB/s eta 0:00:02\n",
      "   ---- ----------------------------------- 4.6/38.6 MB 18.6 MB/s eta 0:00:02\n",
      "   ------ --------------------------------- 6.0/38.6 MB 19.3 MB/s eta 0:00:02\n",
      "   -------- ------------------------------- 7.9/38.6 MB 21.1 MB/s eta 0:00:02\n",
      "   --------- ------------------------------ 9.2/38.6 MB 21.9 MB/s eta 0:00:02\n",
      "   ---------- ----------------------------- 10.3/38.6 MB 21.9 MB/s eta 0:00:02\n",
      "   ----------- ---------------------------- 11.2/38.6 MB 21.1 MB/s eta 0:00:02\n",
      "   ------------ --------------------------- 12.3/38.6 MB 21.1 MB/s eta 0:00:02\n",
      "   -------------- ------------------------- 13.6/38.6 MB 22.6 MB/s eta 0:00:02\n",
      "   --------------- ------------------------ 14.5/38.6 MB 24.2 MB/s eta 0:00:01\n",
      "   --------------- ------------------------ 15.2/38.6 MB 23.4 MB/s eta 0:00:02\n",
      "   ---------------- ----------------------- 16.2/38.6 MB 23.4 MB/s eta 0:00:01\n",
      "   ----------------- ---------------------- 17.2/38.6 MB 22.6 MB/s eta 0:00:01\n",
      "   ------------------- -------------------- 18.7/38.6 MB 23.4 MB/s eta 0:00:01\n",
      "   -------------------- ------------------- 20.2/38.6 MB 23.4 MB/s eta 0:00:01\n",
      "   ----------------------- ---------------- 22.3/38.6 MB 25.1 MB/s eta 0:00:01\n",
      "   ----------------------- ---------------- 23.2/38.6 MB 25.1 MB/s eta 0:00:01\n",
      "   ------------------------- -------------- 24.6/38.6 MB 24.2 MB/s eta 0:00:01\n",
      "   --------------------------- ------------ 26.1/38.6 MB 26.2 MB/s eta 0:00:01\n",
      "   ---------------------------- ----------- 27.2/38.6 MB 27.3 MB/s eta 0:00:01\n",
      "   ----------------------------- ---------- 28.0/38.6 MB 27.3 MB/s eta 0:00:01\n",
      "   ----------------------------- ---------- 28.8/38.6 MB 24.2 MB/s eta 0:00:01\n",
      "   ------------------------------- -------- 30.1/38.6 MB 25.2 MB/s eta 0:00:01\n",
      "   -------------------------------- ------- 31.4/38.6 MB 24.2 MB/s eta 0:00:01\n",
      "   --------------------------------- ------ 32.6/38.6 MB 23.4 MB/s eta 0:00:01\n",
      "   ----------------------------------- ---- 33.8/38.6 MB 24.2 MB/s eta 0:00:01\n",
      "   ------------------------------------ --- 34.8/38.6 MB 24.2 MB/s eta 0:00:01\n",
      "   ------------------------------------- -- 35.8/38.6 MB 24.2 MB/s eta 0:00:01\n",
      "   -------------------------------------- - 37.0/38.6 MB 22.6 MB/s eta 0:00:01\n",
      "   ---------------------------------------  37.8/38.6 MB 23.4 MB/s eta 0:00:01\n",
      "   ---------------------------------------  38.6/38.6 MB 23.4 MB/s eta 0:00:01\n",
      "   ---------------------------------------  38.6/38.6 MB 23.4 MB/s eta 0:00:01\n",
      "   ---------------------------------------  38.6/38.6 MB 23.4 MB/s eta 0:00:01\n",
      "   ---------------------------------------- 38.6/38.6 MB 18.2 MB/s eta 0:00:00\n",
      "Downloading flatbuffers-23.5.26-py2.py3-none-any.whl (26 kB)\n",
      "Downloading absl_py-2.1.0-py3-none-any.whl (133 kB)\n",
      "   ---------------------------------------- 0.0/133.7 kB ? eta -:--:--\n",
      "   ---------------------------------------- 133.7/133.7 kB 7.7 MB/s eta 0:00:00\n",
      "Using cached matplotlib-3.7.4-cp38-cp38-win_amd64.whl (7.5 MB)\n",
      "Downloading opencv_contrib_python-4.9.0.80-cp37-abi3-win_amd64.whl (45.3 MB)\n",
      "   ---------------------------------------- 0.0/45.3 MB ? eta -:--:--\n",
      "   - -------------------------------------- 1.8/45.3 MB 37.0 MB/s eta 0:00:02\n",
      "   -- ------------------------------------- 2.7/45.3 MB 28.9 MB/s eta 0:00:02\n",
      "   --- ------------------------------------ 3.6/45.3 MB 25.1 MB/s eta 0:00:02\n",
      "   ---- ----------------------------------- 4.6/45.3 MB 24.5 MB/s eta 0:00:02\n",
      "   ----- ---------------------------------- 5.8/45.3 MB 23.3 MB/s eta 0:00:02\n",
      "   ------ --------------------------------- 7.1/45.3 MB 22.5 MB/s eta 0:00:02\n",
      "   ------- -------------------------------- 8.4/45.3 MB 22.4 MB/s eta 0:00:02\n",
      "   -------- ------------------------------- 9.8/45.3 MB 23.3 MB/s eta 0:00:02\n",
      "   --------- ------------------------------ 11.1/45.3 MB 22.6 MB/s eta 0:00:02\n",
      "   ----------- ---------------------------- 12.5/45.3 MB 23.4 MB/s eta 0:00:02\n",
      "   ------------ --------------------------- 14.0/45.3 MB 26.2 MB/s eta 0:00:02\n",
      "   ------------- -------------------------- 15.3/45.3 MB 27.3 MB/s eta 0:00:02\n",
      "   -------------- ------------------------- 16.4/45.3 MB 26.2 MB/s eta 0:00:02\n",
      "   --------------- ------------------------ 17.9/45.3 MB 29.7 MB/s eta 0:00:01\n",
      "   ----------------- ---------------------- 19.4/45.3 MB 28.5 MB/s eta 0:00:01\n",
      "   ------------------ --------------------- 20.6/45.3 MB 29.8 MB/s eta 0:00:01\n",
      "   ------------------- -------------------- 21.7/45.3 MB 29.7 MB/s eta 0:00:01\n",
      "   -------------------- ------------------- 22.7/45.3 MB 27.3 MB/s eta 0:00:01\n",
      "   --------------------- ------------------ 24.2/45.3 MB 26.2 MB/s eta 0:00:01\n",
      "   ---------------------- ----------------- 25.5/45.3 MB 25.2 MB/s eta 0:00:01\n",
      "   ----------------------- ---------------- 26.8/45.3 MB 25.1 MB/s eta 0:00:01\n",
      "   ----------------------- ---------------- 27.0/45.3 MB 21.8 MB/s eta 0:00:01\n",
      "   ------------------------ --------------- 28.1/45.3 MB 21.8 MB/s eta 0:00:01\n",
      "   ------------------------- -------------- 29.4/45.3 MB 21.1 MB/s eta 0:00:01\n",
      "   --------------------------- ------------ 31.1/45.3 MB 21.1 MB/s eta 0:00:01\n",
      "   ---------------------------- ----------- 31.8/45.3 MB 20.5 MB/s eta 0:00:01\n",
      "   ----------------------------- ---------- 33.1/45.3 MB 21.1 MB/s eta 0:00:01\n",
      "   ------------------------------ --------- 34.1/45.3 MB 21.1 MB/s eta 0:00:01\n",
      "   ------------------------------- -------- 35.1/45.3 MB 21.1 MB/s eta 0:00:01\n",
      "   ------------------------------- -------- 36.0/45.3 MB 20.5 MB/s eta 0:00:01\n",
      "   --------------------------------- ------ 37.5/45.3 MB 24.2 MB/s eta 0:00:01\n",
      "   ---------------------------------- ----- 39.0/45.3 MB 25.2 MB/s eta 0:00:01\n",
      "   ----------------------------------- ---- 40.4/45.3 MB 25.2 MB/s eta 0:00:01\n",
      "   ------------------------------------ --- 41.4/45.3 MB 24.2 MB/s eta 0:00:01\n",
      "   ------------------------------------- -- 42.3/45.3 MB 25.2 MB/s eta 0:00:01\n",
      "   -------------------------------------- - 43.3/45.3 MB 25.2 MB/s eta 0:00:01\n",
      "   ---------------------------------------  44.6/45.3 MB 25.2 MB/s eta 0:00:01\n",
      "   ---------------------------------------  45.3/45.3 MB 25.2 MB/s eta 0:00:01\n",
      "   ---------------------------------------  45.3/45.3 MB 25.2 MB/s eta 0:00:01\n",
      "   ---------------------------------------- 45.3/45.3 MB 19.2 MB/s eta 0:00:00\n",
      "Using cached contourpy-1.1.1-cp38-cp38-win_amd64.whl (477 kB)\n",
      "Using cached cycler-0.12.1-py3-none-any.whl (8.3 kB)\n",
      "Using cached fonttools-4.47.2-cp38-cp38-win_amd64.whl (1.5 MB)\n",
      "Using cached kiwisolver-1.4.5-cp38-cp38-win_amd64.whl (56 kB)\n",
      "Using cached pillow-10.2.0-cp38-cp38-win_amd64.whl (2.6 MB)\n",
      "Using cached pyparsing-3.1.1-py3-none-any.whl (103 kB)\n",
      "Installing collected packages: flatbuffers, pyparsing, protobuf, pillow, opencv-python, opencv-contrib-python, kiwisolver, fonttools, cycler, contourpy, absl-py, sounddevice, matplotlib, mediapipe\n",
      "Successfully installed absl-py-2.1.0 contourpy-1.1.1 cycler-0.12.1 flatbuffers-23.5.26 fonttools-4.47.2 kiwisolver-1.4.5 matplotlib-3.7.4 mediapipe-0.10.9 opencv-contrib-python-4.9.0.80 opencv-python-4.9.0.80 pillow-10.2.0 protobuf-3.20.3 pyparsing-3.1.1 sounddevice-0.4.6\n"
     ]
    }
   ],
   "source": [
    "!pip install mediapipe opencv-python"
   ]
  },
  {
   "cell_type": "code",
   "outputs": [],
   "source": [
    "import cv2\n",
    "import mediapipe as mp\n",
    "import numpy as np\n",
    "mp_drawing = mp.solutions.drawing_utils\n",
    "mp_pose = mp.solutions.pose"
   ],
   "metadata": {
    "collapsed": false,
    "ExecuteTime": {
     "end_time": "2024-01-27T17:49:38.918386200Z",
     "start_time": "2024-01-27T17:49:37.806944300Z"
    }
   },
   "id": "619fa11fe0ede910",
   "execution_count": 1
  },
  {
   "cell_type": "code",
   "outputs": [
    {
     "name": "stdout",
     "output_type": "stream",
     "text": [
      "<class 'numpy.ndarray'> (480, 640, 3)\n"
     ]
    }
   ],
   "source": [
    "# open picture and represent it as an array\n",
    "frame_sample = cv2.imread('../images/sample_002.jpg')\n",
    "# downscale the frame to 480x640\n",
    "frame_sample = cv2.resize(frame_sample, (640, 480))\n",
    "print(type(frame_sample), frame_sample.shape)"
   ],
   "metadata": {
    "collapsed": false,
    "ExecuteTime": {
     "end_time": "2024-01-27T18:11:27.437162300Z",
     "start_time": "2024-01-27T18:11:27.392661800Z"
    }
   },
   "id": "106594fb29ca3fa0",
   "execution_count": 25
  },
  {
   "cell_type": "code",
   "outputs": [],
   "source": [
    "# VIDEO FEED\n",
    "cap = cv2.VideoCapture(0)\n",
    "while cap.isOpened():\n",
    "    ret, frame = cap.read()\n",
    "    cv2.imshow('Mediapipe Feed', frame_sample)\n",
    "\n",
    "    if cv2.waitKey(10) & 0xFF == ord('q'):\n",
    "        break\n",
    "\n",
    "cap.release()\n",
    "cv2.destroyAllWindows()"
   ],
   "metadata": {
    "collapsed": false,
    "ExecuteTime": {
     "end_time": "2024-01-27T17:57:54.203881200Z",
     "start_time": "2024-01-27T17:57:48.043111900Z"
    }
   },
   "id": "f84485d82d95b213",
   "execution_count": 15
  },
  {
   "cell_type": "code",
   "outputs": [
    {
     "name": "stdout",
     "output_type": "stream",
     "text": [
      "<class 'numpy.ndarray'> (480, 640, 3)\n"
     ]
    }
   ],
   "source": [
    "print(type(frame), frame.shape)"
   ],
   "metadata": {
    "collapsed": false,
    "ExecuteTime": {
     "end_time": "2024-01-27T17:52:47.473837800Z",
     "start_time": "2024-01-27T17:52:47.451522200Z"
    }
   },
   "id": "c41ecdb1f223bbb5",
   "execution_count": 8
  },
  {
   "cell_type": "markdown",
   "source": [
    "# Make detection"
   ],
   "metadata": {
    "collapsed": false
   },
   "id": "c117b9d68fffbc98"
  },
  {
   "cell_type": "code",
   "outputs": [],
   "source": [
    "cap = cv2.VideoCapture(0)\n",
    "## Setup mediapipe instance\n",
    "with mp_pose.Pose(min_detection_confidence=0.5, min_tracking_confidence=0.5) as pose:\n",
    "    while cap.isOpened():\n",
    "        ret, frame = cap.read()\n",
    "\n",
    "        # Recolor image to RGB\n",
    "        image = cv2.cvtColor(frame_sample, cv2.COLOR_BGR2RGB)\n",
    "        image.flags.writeable = False\n",
    "\n",
    "        # Make detection\n",
    "        results = pose.process(image)\n",
    "\n",
    "        # Recolor back to BGR\n",
    "        image.flags.writeable = True\n",
    "        image = cv2.cvtColor(image, cv2.COLOR_RGB2BGR)\n",
    "\n",
    "        # Render detections\n",
    "        mp_drawing.draw_landmarks(image, results.pose_landmarks, mp_pose.POSE_CONNECTIONS,\n",
    "                                  mp_drawing.DrawingSpec(color=(245,117,66), thickness=2, circle_radius=2),\n",
    "                                  mp_drawing.DrawingSpec(color=(245,66,230), thickness=2, circle_radius=2)\n",
    "                                  )\n",
    "\n",
    "        cv2.imshow('Mediapipe Feed', image)\n",
    "\n",
    "        if cv2.waitKey(10) & 0xFF == ord('q'):\n",
    "            break\n",
    "\n",
    "    cap.release()\n",
    "    cv2.destroyAllWindows()"
   ],
   "metadata": {
    "collapsed": false,
    "ExecuteTime": {
     "end_time": "2024-01-27T18:17:15.262992800Z",
     "start_time": "2024-01-27T18:16:56.956165900Z"
    }
   },
   "id": "8c3d499aaa99ca0e",
   "execution_count": 29
  }
 ],
 "metadata": {
  "kernelspec": {
   "display_name": "Python 3",
   "language": "python",
   "name": "python3"
  },
  "language_info": {
   "codemirror_mode": {
    "name": "ipython",
    "version": 2
   },
   "file_extension": ".py",
   "mimetype": "text/x-python",
   "name": "python",
   "nbconvert_exporter": "python",
   "pygments_lexer": "ipython2",
   "version": "2.7.6"
  }
 },
 "nbformat": 4,
 "nbformat_minor": 5
}
