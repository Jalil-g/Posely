{
 "cells": [
  {
   "cell_type": "code",
   "execution_count": 1,
   "id": "initial_id",
   "metadata": {
    "collapsed": true,
    "ExecuteTime": {
     "end_time": "2024-01-27T17:45:50.630054600Z",
     "start_time": "2024-01-27T17:45:21.930244900Z"
    }
   },
   "outputs": [
    {
     "name": "stdout",
     "output_type": "stream",
     "text": [
      "Collecting mediapipe\n",
      "  Downloading mediapipe-0.10.9-cp38-cp38-win_amd64.whl.metadata (9.8 kB)\n",
      "Collecting opencv-python\n",
      "  Downloading opencv_python-4.9.0.80-cp37-abi3-win_amd64.whl.metadata (20 kB)\n",
      "Collecting absl-py (from mediapipe)\n",
      "  Downloading absl_py-2.1.0-py3-none-any.whl.metadata (2.3 kB)\n",
      "Requirement already satisfied: attrs>=19.1.0 in c:\\users\\asus\\anaconda3\\envs\\mchacks\\lib\\site-packages (from mediapipe) (23.1.0)\n",
      "Collecting flatbuffers>=2.0 (from mediapipe)\n",
      "  Downloading flatbuffers-23.5.26-py2.py3-none-any.whl.metadata (850 bytes)\n",
      "Collecting matplotlib (from mediapipe)\n",
      "  Using cached matplotlib-3.7.4-cp38-cp38-win_amd64.whl.metadata (5.8 kB)\n",
      "Requirement already satisfied: numpy in c:\\users\\asus\\anaconda3\\envs\\mchacks\\lib\\site-packages (from mediapipe) (1.24.3)\n",
      "Collecting opencv-contrib-python (from mediapipe)\n",
      "  Downloading opencv_contrib_python-4.9.0.80-cp37-abi3-win_amd64.whl.metadata (20 kB)\n",
      "Collecting protobuf<4,>=3.11 (from mediapipe)\n",
      "  Downloading protobuf-3.20.3-cp38-cp38-win_amd64.whl (904 kB)\n",
      "     ---------------------------------------- 0.0/904.4 kB ? eta -:--:--\n",
      "     ---- --------------------------------- 112.6/904.4 kB 2.2 MB/s eta 0:00:01\n",
      "     ---------------------- --------------- 532.5/904.4 kB 5.6 MB/s eta 0:00:01\n",
      "     -------------------------------------- 904.4/904.4 kB 7.2 MB/s eta 0:00:00\n",
      "Collecting sounddevice>=0.4.4 (from mediapipe)\n",
      "  Downloading sounddevice-0.4.6-py3-none-win_amd64.whl (199 kB)\n",
      "     ---------------------------------------- 0.0/199.7 kB ? eta -:--:--\n",
      "     ---------------------------------------- 199.7/199.7 kB ? eta 0:00:00\n",
      "Requirement already satisfied: CFFI>=1.0 in c:\\users\\asus\\anaconda3\\envs\\mchacks\\lib\\site-packages (from sounddevice>=0.4.4->mediapipe) (1.16.0)\n",
      "Collecting contourpy>=1.0.1 (from matplotlib->mediapipe)\n",
      "  Using cached contourpy-1.1.1-cp38-cp38-win_amd64.whl.metadata (5.9 kB)\n",
      "Collecting cycler>=0.10 (from matplotlib->mediapipe)\n",
      "  Using cached cycler-0.12.1-py3-none-any.whl.metadata (3.8 kB)\n",
      "Collecting fonttools>=4.22.0 (from matplotlib->mediapipe)\n",
      "  Using cached fonttools-4.47.2-cp38-cp38-win_amd64.whl.metadata (160 kB)\n",
      "Collecting kiwisolver>=1.0.1 (from matplotlib->mediapipe)\n",
      "  Using cached kiwisolver-1.4.5-cp38-cp38-win_amd64.whl.metadata (6.5 kB)\n",
      "Requirement already satisfied: packaging>=20.0 in c:\\users\\asus\\anaconda3\\envs\\mchacks\\lib\\site-packages (from matplotlib->mediapipe) (23.1)\n",
      "Collecting pillow>=6.2.0 (from matplotlib->mediapipe)\n",
      "  Using cached pillow-10.2.0-cp38-cp38-win_amd64.whl.metadata (9.9 kB)\n",
      "Collecting pyparsing>=2.3.1 (from matplotlib->mediapipe)\n",
      "  Using cached pyparsing-3.1.1-py3-none-any.whl.metadata (5.1 kB)\n",
      "Requirement already satisfied: python-dateutil>=2.7 in c:\\users\\asus\\anaconda3\\envs\\mchacks\\lib\\site-packages (from matplotlib->mediapipe) (2.8.2)\n",
      "Requirement already satisfied: importlib-resources>=3.2.0 in c:\\users\\asus\\anaconda3\\envs\\mchacks\\lib\\site-packages (from matplotlib->mediapipe) (6.1.1)\n",
      "Requirement already satisfied: pycparser in c:\\users\\asus\\anaconda3\\envs\\mchacks\\lib\\site-packages (from CFFI>=1.0->sounddevice>=0.4.4->mediapipe) (2.21)\n",
      "Requirement already satisfied: zipp>=3.1.0 in c:\\users\\asus\\anaconda3\\envs\\mchacks\\lib\\site-packages (from importlib-resources>=3.2.0->matplotlib->mediapipe) (3.17.0)\n",
      "Requirement already satisfied: six>=1.5 in c:\\users\\asus\\anaconda3\\envs\\mchacks\\lib\\site-packages (from python-dateutil>=2.7->matplotlib->mediapipe) (1.16.0)\n",
      "Downloading mediapipe-0.10.9-cp38-cp38-win_amd64.whl (50.5 MB)\n",
      "   ---------------------------------------- 0.0/50.5 MB ? eta -:--:--\n",
      "   - -------------------------------------- 1.4/50.5 MB 28.8 MB/s eta 0:00:02\n",
      "   -- ------------------------------------- 2.6/50.5 MB 27.8 MB/s eta 0:00:02\n",
      "   -- ------------------------------------- 3.5/50.5 MB 24.8 MB/s eta 0:00:02\n",
      "   -- ------------------------------------- 3.6/50.5 MB 25.4 MB/s eta 0:00:02\n",
      "   --- ------------------------------------ 4.2/50.5 MB 17.8 MB/s eta 0:00:03\n",
      "   ---- ----------------------------------- 5.5/50.5 MB 19.4 MB/s eta 0:00:03\n",
      "   ---- ----------------------------------- 6.3/50.5 MB 19.1 MB/s eta 0:00:03\n",
      "   ------ --------------------------------- 7.6/50.5 MB 20.3 MB/s eta 0:00:03\n",
      "   ------ --------------------------------- 8.8/50.5 MB 20.8 MB/s eta 0:00:03\n",
      "   ------- -------------------------------- 10.0/50.5 MB 21.4 MB/s eta 0:00:02\n",
      "   --------- ------------------------------ 11.6/50.5 MB 21.1 MB/s eta 0:00:02\n",
      "   ---------- ----------------------------- 12.7/50.5 MB 21.1 MB/s eta 0:00:02\n",
      "   ----------- ---------------------------- 14.2/50.5 MB 25.2 MB/s eta 0:00:02\n",
      "   ------------ --------------------------- 15.4/50.5 MB 25.2 MB/s eta 0:00:02\n",
      "   ------------ --------------------------- 16.3/50.5 MB 25.2 MB/s eta 0:00:02\n",
      "   ------------- -------------------------- 17.4/50.5 MB 26.2 MB/s eta 0:00:02\n",
      "   -------------- ------------------------- 18.7/50.5 MB 25.2 MB/s eta 0:00:02\n",
      "   --------------- ------------------------ 19.8/50.5 MB 26.2 MB/s eta 0:00:02\n",
      "   ---------------- ----------------------- 20.8/50.5 MB 25.1 MB/s eta 0:00:02\n",
      "   ----------------- ---------------------- 21.6/50.5 MB 23.4 MB/s eta 0:00:02\n",
      "   ----------------- ---------------------- 22.0/50.5 MB 25.1 MB/s eta 0:00:02\n",
      "   ----------------- ---------------------- 22.0/50.5 MB 25.1 MB/s eta 0:00:02\n",
      "   ----------------- ---------------------- 22.0/50.5 MB 25.1 MB/s eta 0:00:02\n",
      "   ----------------- ---------------------- 22.0/50.5 MB 25.1 MB/s eta 0:00:02\n",
      "   ----------------- ---------------------- 22.0/50.5 MB 25.1 MB/s eta 0:00:02\n",
      "   ----------------- ---------------------- 22.3/50.5 MB 14.9 MB/s eta 0:00:02\n",
      "   ------------------ --------------------- 23.0/50.5 MB 14.6 MB/s eta 0:00:02\n",
      "   ------------------ --------------------- 23.8/50.5 MB 14.2 MB/s eta 0:00:02\n",
      "   ------------------- -------------------- 25.0/50.5 MB 13.9 MB/s eta 0:00:02\n",
      "   -------------------- ------------------- 25.6/50.5 MB 13.6 MB/s eta 0:00:02\n",
      "   --------------------- ------------------ 26.5/50.5 MB 13.6 MB/s eta 0:00:02\n",
      "   --------------------- ------------------ 27.3/50.5 MB 13.9 MB/s eta 0:00:02\n",
      "   --------------------- ------------------ 27.3/50.5 MB 13.9 MB/s eta 0:00:02\n",
      "   --------------------- ------------------ 27.4/50.5 MB 11.9 MB/s eta 0:00:02\n",
      "   ---------------------- ----------------- 28.8/50.5 MB 11.9 MB/s eta 0:00:02\n",
      "   ----------------------- ---------------- 30.0/50.5 MB 11.9 MB/s eta 0:00:02\n",
      "   ------------------------ --------------- 30.9/50.5 MB 11.9 MB/s eta 0:00:02\n",
      "   ------------------------ --------------- 31.5/50.5 MB 11.9 MB/s eta 0:00:02\n",
      "   ------------------------- -------------- 31.8/50.5 MB 11.5 MB/s eta 0:00:02\n",
      "   ------------------------- -------------- 32.7/50.5 MB 16.0 MB/s eta 0:00:02\n",
      "   -------------------------- ------------- 33.2/50.5 MB 16.0 MB/s eta 0:00:02\n",
      "   -------------------------- ------------- 34.0/50.5 MB 16.0 MB/s eta 0:00:02\n",
      "   --------------------------- ------------ 35.1/50.5 MB 15.6 MB/s eta 0:00:01\n",
      "   ---------------------------- ----------- 35.9/50.5 MB 15.6 MB/s eta 0:00:01\n",
      "   ---------------------------- ----------- 36.6/50.5 MB 15.6 MB/s eta 0:00:01\n",
      "   ----------------------------- ---------- 37.8/50.5 MB 18.2 MB/s eta 0:00:01\n",
      "   ------------------------------ --------- 39.0/50.5 MB 18.2 MB/s eta 0:00:01\n",
      "   -------------------------------- ------- 40.5/50.5 MB 18.2 MB/s eta 0:00:01\n",
      "   --------------------------------- ------ 41.7/50.5 MB 20.5 MB/s eta 0:00:01\n",
      "   ---------------------------------- ----- 43.0/50.5 MB 21.1 MB/s eta 0:00:01\n",
      "   ---------------------------------- ----- 44.2/50.5 MB 22.6 MB/s eta 0:00:01\n",
      "   ----------------------------------- ---- 44.9/50.5 MB 22.6 MB/s eta 0:00:01\n",
      "   ------------------------------------ --- 45.6/50.5 MB 21.8 MB/s eta 0:00:01\n",
      "   ------------------------------------- -- 46.8/50.5 MB 22.6 MB/s eta 0:00:01\n",
      "   -------------------------------------- - 48.2/50.5 MB 24.2 MB/s eta 0:00:01\n",
      "   ---------------------------------------  49.5/50.5 MB 24.2 MB/s eta 0:00:01\n",
      "   ---------------------------------------  50.5/50.5 MB 25.2 MB/s eta 0:00:01\n",
      "   ---------------------------------------  50.5/50.5 MB 25.2 MB/s eta 0:00:01\n",
      "   ---------------------------------------- 50.5/50.5 MB 19.3 MB/s eta 0:00:00\n",
      "Downloading opencv_python-4.9.0.80-cp37-abi3-win_amd64.whl (38.6 MB)\n",
      "   ---------------------------------------- 0.0/38.6 MB ? eta -:--:--\n",
      "   - -------------------------------------- 1.3/38.6 MB 27.4 MB/s eta 0:00:02\n",
      "   -- ------------------------------------- 2.4/38.6 MB 25.2 MB/s eta 0:00:02\n",
      "   --- ------------------------------------ 3.0/38.6 MB 24.2 MB/s eta 0:00:02\n",
      "   --- ------------------------------------ 3.6/38.6 MB 19.3 MB/s eta 0:00:02\n",
      "   ---- ----------------------------------- 4.6/38.6 MB 18.6 MB/s eta 0:00:02\n",
      "   ------ --------------------------------- 6.0/38.6 MB 19.3 MB/s eta 0:00:02\n",
      "   -------- ------------------------------- 7.9/38.6 MB 21.1 MB/s eta 0:00:02\n",
      "   --------- ------------------------------ 9.2/38.6 MB 21.9 MB/s eta 0:00:02\n",
      "   ---------- ----------------------------- 10.3/38.6 MB 21.9 MB/s eta 0:00:02\n",
      "   ----------- ---------------------------- 11.2/38.6 MB 21.1 MB/s eta 0:00:02\n",
      "   ------------ --------------------------- 12.3/38.6 MB 21.1 MB/s eta 0:00:02\n",
      "   -------------- ------------------------- 13.6/38.6 MB 22.6 MB/s eta 0:00:02\n",
      "   --------------- ------------------------ 14.5/38.6 MB 24.2 MB/s eta 0:00:01\n",
      "   --------------- ------------------------ 15.2/38.6 MB 23.4 MB/s eta 0:00:02\n",
      "   ---------------- ----------------------- 16.2/38.6 MB 23.4 MB/s eta 0:00:01\n",
      "   ----------------- ---------------------- 17.2/38.6 MB 22.6 MB/s eta 0:00:01\n",
      "   ------------------- -------------------- 18.7/38.6 MB 23.4 MB/s eta 0:00:01\n",
      "   -------------------- ------------------- 20.2/38.6 MB 23.4 MB/s eta 0:00:01\n",
      "   ----------------------- ---------------- 22.3/38.6 MB 25.1 MB/s eta 0:00:01\n",
      "   ----------------------- ---------------- 23.2/38.6 MB 25.1 MB/s eta 0:00:01\n",
      "   ------------------------- -------------- 24.6/38.6 MB 24.2 MB/s eta 0:00:01\n",
      "   --------------------------- ------------ 26.1/38.6 MB 26.2 MB/s eta 0:00:01\n",
      "   ---------------------------- ----------- 27.2/38.6 MB 27.3 MB/s eta 0:00:01\n",
      "   ----------------------------- ---------- 28.0/38.6 MB 27.3 MB/s eta 0:00:01\n",
      "   ----------------------------- ---------- 28.8/38.6 MB 24.2 MB/s eta 0:00:01\n",
      "   ------------------------------- -------- 30.1/38.6 MB 25.2 MB/s eta 0:00:01\n",
      "   -------------------------------- ------- 31.4/38.6 MB 24.2 MB/s eta 0:00:01\n",
      "   --------------------------------- ------ 32.6/38.6 MB 23.4 MB/s eta 0:00:01\n",
      "   ----------------------------------- ---- 33.8/38.6 MB 24.2 MB/s eta 0:00:01\n",
      "   ------------------------------------ --- 34.8/38.6 MB 24.2 MB/s eta 0:00:01\n",
      "   ------------------------------------- -- 35.8/38.6 MB 24.2 MB/s eta 0:00:01\n",
      "   -------------------------------------- - 37.0/38.6 MB 22.6 MB/s eta 0:00:01\n",
      "   ---------------------------------------  37.8/38.6 MB 23.4 MB/s eta 0:00:01\n",
      "   ---------------------------------------  38.6/38.6 MB 23.4 MB/s eta 0:00:01\n",
      "   ---------------------------------------  38.6/38.6 MB 23.4 MB/s eta 0:00:01\n",
      "   ---------------------------------------  38.6/38.6 MB 23.4 MB/s eta 0:00:01\n",
      "   ---------------------------------------- 38.6/38.6 MB 18.2 MB/s eta 0:00:00\n",
      "Downloading flatbuffers-23.5.26-py2.py3-none-any.whl (26 kB)\n",
      "Downloading absl_py-2.1.0-py3-none-any.whl (133 kB)\n",
      "   ---------------------------------------- 0.0/133.7 kB ? eta -:--:--\n",
      "   ---------------------------------------- 133.7/133.7 kB 7.7 MB/s eta 0:00:00\n",
      "Using cached matplotlib-3.7.4-cp38-cp38-win_amd64.whl (7.5 MB)\n",
      "Downloading opencv_contrib_python-4.9.0.80-cp37-abi3-win_amd64.whl (45.3 MB)\n",
      "   ---------------------------------------- 0.0/45.3 MB ? eta -:--:--\n",
      "   - -------------------------------------- 1.8/45.3 MB 37.0 MB/s eta 0:00:02\n",
      "   -- ------------------------------------- 2.7/45.3 MB 28.9 MB/s eta 0:00:02\n",
      "   --- ------------------------------------ 3.6/45.3 MB 25.1 MB/s eta 0:00:02\n",
      "   ---- ----------------------------------- 4.6/45.3 MB 24.5 MB/s eta 0:00:02\n",
      "   ----- ---------------------------------- 5.8/45.3 MB 23.3 MB/s eta 0:00:02\n",
      "   ------ --------------------------------- 7.1/45.3 MB 22.5 MB/s eta 0:00:02\n",
      "   ------- -------------------------------- 8.4/45.3 MB 22.4 MB/s eta 0:00:02\n",
      "   -------- ------------------------------- 9.8/45.3 MB 23.3 MB/s eta 0:00:02\n",
      "   --------- ------------------------------ 11.1/45.3 MB 22.6 MB/s eta 0:00:02\n",
      "   ----------- ---------------------------- 12.5/45.3 MB 23.4 MB/s eta 0:00:02\n",
      "   ------------ --------------------------- 14.0/45.3 MB 26.2 MB/s eta 0:00:02\n",
      "   ------------- -------------------------- 15.3/45.3 MB 27.3 MB/s eta 0:00:02\n",
      "   -------------- ------------------------- 16.4/45.3 MB 26.2 MB/s eta 0:00:02\n",
      "   --------------- ------------------------ 17.9/45.3 MB 29.7 MB/s eta 0:00:01\n",
      "   ----------------- ---------------------- 19.4/45.3 MB 28.5 MB/s eta 0:00:01\n",
      "   ------------------ --------------------- 20.6/45.3 MB 29.8 MB/s eta 0:00:01\n",
      "   ------------------- -------------------- 21.7/45.3 MB 29.7 MB/s eta 0:00:01\n",
      "   -------------------- ------------------- 22.7/45.3 MB 27.3 MB/s eta 0:00:01\n",
      "   --------------------- ------------------ 24.2/45.3 MB 26.2 MB/s eta 0:00:01\n",
      "   ---------------------- ----------------- 25.5/45.3 MB 25.2 MB/s eta 0:00:01\n",
      "   ----------------------- ---------------- 26.8/45.3 MB 25.1 MB/s eta 0:00:01\n",
      "   ----------------------- ---------------- 27.0/45.3 MB 21.8 MB/s eta 0:00:01\n",
      "   ------------------------ --------------- 28.1/45.3 MB 21.8 MB/s eta 0:00:01\n",
      "   ------------------------- -------------- 29.4/45.3 MB 21.1 MB/s eta 0:00:01\n",
      "   --------------------------- ------------ 31.1/45.3 MB 21.1 MB/s eta 0:00:01\n",
      "   ---------------------------- ----------- 31.8/45.3 MB 20.5 MB/s eta 0:00:01\n",
      "   ----------------------------- ---------- 33.1/45.3 MB 21.1 MB/s eta 0:00:01\n",
      "   ------------------------------ --------- 34.1/45.3 MB 21.1 MB/s eta 0:00:01\n",
      "   ------------------------------- -------- 35.1/45.3 MB 21.1 MB/s eta 0:00:01\n",
      "   ------------------------------- -------- 36.0/45.3 MB 20.5 MB/s eta 0:00:01\n",
      "   --------------------------------- ------ 37.5/45.3 MB 24.2 MB/s eta 0:00:01\n",
      "   ---------------------------------- ----- 39.0/45.3 MB 25.2 MB/s eta 0:00:01\n",
      "   ----------------------------------- ---- 40.4/45.3 MB 25.2 MB/s eta 0:00:01\n",
      "   ------------------------------------ --- 41.4/45.3 MB 24.2 MB/s eta 0:00:01\n",
      "   ------------------------------------- -- 42.3/45.3 MB 25.2 MB/s eta 0:00:01\n",
      "   -------------------------------------- - 43.3/45.3 MB 25.2 MB/s eta 0:00:01\n",
      "   ---------------------------------------  44.6/45.3 MB 25.2 MB/s eta 0:00:01\n",
      "   ---------------------------------------  45.3/45.3 MB 25.2 MB/s eta 0:00:01\n",
      "   ---------------------------------------  45.3/45.3 MB 25.2 MB/s eta 0:00:01\n",
      "   ---------------------------------------- 45.3/45.3 MB 19.2 MB/s eta 0:00:00\n",
      "Using cached contourpy-1.1.1-cp38-cp38-win_amd64.whl (477 kB)\n",
      "Using cached cycler-0.12.1-py3-none-any.whl (8.3 kB)\n",
      "Using cached fonttools-4.47.2-cp38-cp38-win_amd64.whl (1.5 MB)\n",
      "Using cached kiwisolver-1.4.5-cp38-cp38-win_amd64.whl (56 kB)\n",
      "Using cached pillow-10.2.0-cp38-cp38-win_amd64.whl (2.6 MB)\n",
      "Using cached pyparsing-3.1.1-py3-none-any.whl (103 kB)\n",
      "Installing collected packages: flatbuffers, pyparsing, protobuf, pillow, opencv-python, opencv-contrib-python, kiwisolver, fonttools, cycler, contourpy, absl-py, sounddevice, matplotlib, mediapipe\n",
      "Successfully installed absl-py-2.1.0 contourpy-1.1.1 cycler-0.12.1 flatbuffers-23.5.26 fonttools-4.47.2 kiwisolver-1.4.5 matplotlib-3.7.4 mediapipe-0.10.9 opencv-contrib-python-4.9.0.80 opencv-python-4.9.0.80 pillow-10.2.0 protobuf-3.20.3 pyparsing-3.1.1 sounddevice-0.4.6\n"
     ]
    }
   ],
   "source": [
    "!pip install mediapipe opencv-python"
   ]
  },
  {
   "cell_type": "code",
   "outputs": [],
   "source": [
    "import cv2\n",
    "import mediapipe as mp\n",
    "import numpy as np\n",
    "mp_drawing = mp.solutions.drawing_utils\n",
    "mp_pose = mp.solutions.pose"
   ],
   "metadata": {
    "collapsed": false,
    "ExecuteTime": {
     "end_time": "2024-01-27T19:21:21.731313800Z",
     "start_time": "2024-01-27T19:21:20.466011200Z"
    }
   },
   "id": "619fa11fe0ede910",
   "execution_count": 1
  },
  {
   "cell_type": "code",
   "outputs": [
    {
     "name": "stdout",
     "output_type": "stream",
     "text": [
      "<class 'numpy.ndarray'> (480, 640, 3)\n"
     ]
    }
   ],
   "source": [
    "# open picture and represent it as an array\n",
    "frame_sample = cv2.imread('../images/sample_002.jpg')\n",
    "# downscale the frame to 480x640\n",
    "frame_sample = cv2.resize(frame_sample, (640, 480))\n",
    "print(type(frame_sample), frame_sample.shape)"
   ],
   "metadata": {
    "collapsed": false,
    "ExecuteTime": {
     "end_time": "2024-01-27T19:21:23.823218100Z",
     "start_time": "2024-01-27T19:21:23.769684600Z"
    }
   },
   "id": "106594fb29ca3fa0",
   "execution_count": 2
  },
  {
   "cell_type": "code",
   "outputs": [],
   "source": [
    "# VIDEO FEED\n",
    "cap = cv2.VideoCapture(0)\n",
    "while cap.isOpened():\n",
    "    ret, frame = cap.read()\n",
    "    cv2.imshow('Mediapipe Feed', frame_sample)\n",
    "\n",
    "    if cv2.waitKey(10) & 0xFF == ord('q'):\n",
    "        break\n",
    "\n",
    "cap.release()\n",
    "cv2.destroyAllWindows()"
   ],
   "metadata": {
    "collapsed": false,
    "ExecuteTime": {
     "end_time": "2024-01-27T17:57:54.203881200Z",
     "start_time": "2024-01-27T17:57:48.043111900Z"
    }
   },
   "id": "f84485d82d95b213",
   "execution_count": 15
  },
  {
   "cell_type": "code",
   "outputs": [
    {
     "name": "stdout",
     "output_type": "stream",
     "text": [
      "<class 'numpy.ndarray'> (480, 640, 3)\n"
     ]
    }
   ],
   "source": [
    "print(type(frame), frame.shape)"
   ],
   "metadata": {
    "collapsed": false,
    "ExecuteTime": {
     "end_time": "2024-01-27T17:52:47.473837800Z",
     "start_time": "2024-01-27T17:52:47.451522200Z"
    }
   },
   "id": "c41ecdb1f223bbb5",
   "execution_count": 8
  },
  {
   "cell_type": "markdown",
   "source": [
    "# Make detection"
   ],
   "metadata": {
    "collapsed": false
   },
   "id": "c117b9d68fffbc98"
  },
  {
   "cell_type": "code",
   "outputs": [
    {
     "name": "stdout",
     "output_type": "stream",
     "text": [
      "------------------------LMFAOOOOOOOOOOOOOOOOOOOOOOOOOOOOOOOOOOOOOOOOOOOO---------------------\n",
      "------------------------LMFAOOOOOOOOOOOOOOOOOOOOOOOOOOOOOOOOOOOOOOOOOOOO---------------------\n",
      "------------------------LMFAOOOOOOOOOOOOOOOOOOOOOOOOOOOOOOOOOOOOOOOOOOOO---------------------\n",
      "------------------------LMFAOOOOOOOOOOOOOOOOOOOOOOOOOOOOOOOOOOOOOOOOOOOO---------------------\n",
      "------------------------LMFAOOOOOOOOOOOOOOOOOOOOOOOOOOOOOOOOOOOOOOOOOOOO---------------------\n",
      "------------------------LMFAOOOOOOOOOOOOOOOOOOOOOOOOOOOOOOOOOOOOOOOOOOOO---------------------\n",
      "------------------------LMFAOOOOOOOOOOOOOOOOOOOOOOOOOOOOOOOOOOOOOOOOOOOO---------------------\n",
      "------------------------LMFAOOOOOOOOOOOOOOOOOOOOOOOOOOOOOOOOOOOOOOOOOOOO---------------------\n",
      "------------------------LMFAOOOOOOOOOOOOOOOOOOOOOOOOOOOOOOOOOOOOOOOOOOOO---------------------\n",
      "------------------------LMFAOOOOOOOOOOOOOOOOOOOOOOOOOOOOOOOOOOOOOOOOOOOO---------------------\n",
      "------------------------LMFAOOOOOOOOOOOOOOOOOOOOOOOOOOOOOOOOOOOOOOOOOOOO---------------------\n",
      "------------------------LMFAOOOOOOOOOOOOOOOOOOOOOOOOOOOOOOOOOOOOOOOOOOOO---------------------\n",
      "------------------------LMFAOOOOOOOOOOOOOOOOOOOOOOOOOOOOOOOOOOOOOOOOOOOO---------------------\n",
      "------------------------LMFAOOOOOOOOOOOOOOOOOOOOOOOOOOOOOOOOOOOOOOOOOOOO---------------------\n",
      "------------------------LMFAOOOOOOOOOOOOOOOOOOOOOOOOOOOOOOOOOOOOOOOOOOOO---------------------\n",
      "------------------------LMFAOOOOOOOOOOOOOOOOOOOOOOOOOOOOOOOOOOOOOOOOOOOO---------------------\n",
      "------------------------LMFAOOOOOOOOOOOOOOOOOOOOOOOOOOOOOOOOOOOOOOOOOOOO---------------------\n",
      "------------------------LMFAOOOOOOOOOOOOOOOOOOOOOOOOOOOOOOOOOOOOOOOOOOOO---------------------\n",
      "------------------------LMFAOOOOOOOOOOOOOOOOOOOOOOOOOOOOOOOOOOOOOOOOOOOO---------------------\n",
      "------------------------LMFAOOOOOOOOOOOOOOOOOOOOOOOOOOOOOOOOOOOOOOOOOOOO---------------------\n",
      "------------------------LMFAOOOOOOOOOOOOOOOOOOOOOOOOOOOOOOOOOOOOOOOOOOOO---------------------\n",
      "------------------------LMFAOOOOOOOOOOOOOOOOOOOOOOOOOOOOOOOOOOOOOOOOOOOO---------------------\n",
      "------------------------LMFAOOOOOOOOOOOOOOOOOOOOOOOOOOOOOOOOOOOOOOOOOOOO---------------------\n",
      "------------------------LMFAOOOOOOOOOOOOOOOOOOOOOOOOOOOOOOOOOOOOOOOOOOOO---------------------\n",
      "------------------------LMFAOOOOOOOOOOOOOOOOOOOOOOOOOOOOOOOOOOOOOOOOOOOO---------------------\n",
      "------------------------LMFAOOOOOOOOOOOOOOOOOOOOOOOOOOOOOOOOOOOOOOOOOOOO---------------------\n",
      "------------------------LMFAOOOOOOOOOOOOOOOOOOOOOOOOOOOOOOOOOOOOOOOOOOOO---------------------\n",
      "------------------------LMFAOOOOOOOOOOOOOOOOOOOOOOOOOOOOOOOOOOOOOOOOOOOO---------------------\n",
      "------------------------LMFAOOOOOOOOOOOOOOOOOOOOOOOOOOOOOOOOOOOOOOOOOOOO---------------------\n",
      "------------------------LMFAOOOOOOOOOOOOOOOOOOOOOOOOOOOOOOOOOOOOOOOOOOOO---------------------\n",
      "------------------------LMFAOOOOOOOOOOOOOOOOOOOOOOOOOOOOOOOOOOOOOOOOOOOO---------------------\n",
      "------------------------LMFAOOOOOOOOOOOOOOOOOOOOOOOOOOOOOOOOOOOOOOOOOOOO---------------------\n",
      "------------------------LMFAOOOOOOOOOOOOOOOOOOOOOOOOOOOOOOOOOOOOOOOOOOOO---------------------\n",
      "------------------------LMFAOOOOOOOOOOOOOOOOOOOOOOOOOOOOOOOOOOOOOOOOOOOO---------------------\n",
      "------------------------LMFAOOOOOOOOOOOOOOOOOOOOOOOOOOOOOOOOOOOOOOOOOOOO---------------------\n",
      "------------------------LMFAOOOOOOOOOOOOOOOOOOOOOOOOOOOOOOOOOOOOOOOOOOOO---------------------\n",
      "------------------------LMFAOOOOOOOOOOOOOOOOOOOOOOOOOOOOOOOOOOOOOOOOOOOO---------------------\n",
      "------------------------LMFAOOOOOOOOOOOOOOOOOOOOOOOOOOOOOOOOOOOOOOOOOOOO---------------------\n",
      "------------------------LMFAOOOOOOOOOOOOOOOOOOOOOOOOOOOOOOOOOOOOOOOOOOOO---------------------\n",
      "------------------------LMFAOOOOOOOOOOOOOOOOOOOOOOOOOOOOOOOOOOOOOOOOOOOO---------------------\n",
      "------------------------LMFAOOOOOOOOOOOOOOOOOOOOOOOOOOOOOOOOOOOOOOOOOOOO---------------------\n",
      "------------------------LMFAOOOOOOOOOOOOOOOOOOOOOOOOOOOOOOOOOOOOOOOOOOOO---------------------\n",
      "------------------------LMFAOOOOOOOOOOOOOOOOOOOOOOOOOOOOOOOOOOOOOOOOOOOO---------------------\n",
      "------------------------LMFAOOOOOOOOOOOOOOOOOOOOOOOOOOOOOOOOOOOOOOOOOOOO---------------------\n",
      "------------------------LMFAOOOOOOOOOOOOOOOOOOOOOOOOOOOOOOOOOOOOOOOOOOOO---------------------\n",
      "------------------------LMFAOOOOOOOOOOOOOOOOOOOOOOOOOOOOOOOOOOOOOOOOOOOO---------------------\n",
      "------------------------LMFAOOOOOOOOOOOOOOOOOOOOOOOOOOOOOOOOOOOOOOOOOOOO---------------------\n",
      "------------------------LMFAOOOOOOOOOOOOOOOOOOOOOOOOOOOOOOOOOOOOOOOOOOOO---------------------\n",
      "------------------------LMFAOOOOOOOOOOOOOOOOOOOOOOOOOOOOOOOOOOOOOOOOOOOO---------------------\n",
      "------------------------LMFAOOOOOOOOOOOOOOOOOOOOOOOOOOOOOOOOOOOOOOOOOOOO---------------------\n",
      "------------------------LMFAOOOOOOOOOOOOOOOOOOOOOOOOOOOOOOOOOOOOOOOOOOOO---------------------\n",
      "------------------------LMFAOOOOOOOOOOOOOOOOOOOOOOOOOOOOOOOOOOOOOOOOOOOO---------------------\n",
      "------------------------LMFAOOOOOOOOOOOOOOOOOOOOOOOOOOOOOOOOOOOOOOOOOOOO---------------------\n",
      "------------------------LMFAOOOOOOOOOOOOOOOOOOOOOOOOOOOOOOOOOOOOOOOOOOOO---------------------\n",
      "------------------------LMFAOOOOOOOOOOOOOOOOOOOOOOOOOOOOOOOOOOOOOOOOOOOO---------------------\n",
      "------------------------LMFAOOOOOOOOOOOOOOOOOOOOOOOOOOOOOOOOOOOOOOOOOOOO---------------------\n",
      "------------------------LMFAOOOOOOOOOOOOOOOOOOOOOOOOOOOOOOOOOOOOOOOOOOOO---------------------\n",
      "------------------------LMFAOOOOOOOOOOOOOOOOOOOOOOOOOOOOOOOOOOOOOOOOOOOO---------------------\n",
      "------------------------LMFAOOOOOOOOOOOOOOOOOOOOOOOOOOOOOOOOOOOOOOOOOOOO---------------------\n",
      "------------------------LMFAOOOOOOOOOOOOOOOOOOOOOOOOOOOOOOOOOOOOOOOOOOOO---------------------\n",
      "------------------------LMFAOOOOOOOOOOOOOOOOOOOOOOOOOOOOOOOOOOOOOOOOOOOO---------------------\n",
      "------------------------LMFAOOOOOOOOOOOOOOOOOOOOOOOOOOOOOOOOOOOOOOOOOOOO---------------------\n",
      "------------------------LMFAOOOOOOOOOOOOOOOOOOOOOOOOOOOOOOOOOOOOOOOOOOOO---------------------\n",
      "------------------------LMFAOOOOOOOOOOOOOOOOOOOOOOOOOOOOOOOOOOOOOOOOOOOO---------------------\n",
      "------------------------LMFAOOOOOOOOOOOOOOOOOOOOOOOOOOOOOOOOOOOOOOOOOOOO---------------------\n",
      "------------------------LMFAOOOOOOOOOOOOOOOOOOOOOOOOOOOOOOOOOOOOOOOOOOOO---------------------\n",
      "------------------------LMFAOOOOOOOOOOOOOOOOOOOOOOOOOOOOOOOOOOOOOOOOOOOO---------------------\n",
      "------------------------LMFAOOOOOOOOOOOOOOOOOOOOOOOOOOOOOOOOOOOOOOOOOOOO---------------------\n",
      "------------------------LMFAOOOOOOOOOOOOOOOOOOOOOOOOOOOOOOOOOOOOOOOOOOOO---------------------\n",
      "------------------------LMFAOOOOOOOOOOOOOOOOOOOOOOOOOOOOOOOOOOOOOOOOOOOO---------------------\n",
      "------------------------LMFAOOOOOOOOOOOOOOOOOOOOOOOOOOOOOOOOOOOOOOOOOOOO---------------------\n",
      "------------------------LMFAOOOOOOOOOOOOOOOOOOOOOOOOOOOOOOOOOOOOOOOOOOOO---------------------\n",
      "------------------------LMFAOOOOOOOOOOOOOOOOOOOOOOOOOOOOOOOOOOOOOOOOOOOO---------------------\n",
      "------------------------LMFAOOOOOOOOOOOOOOOOOOOOOOOOOOOOOOOOOOOOOOOOOOOO---------------------\n",
      "------------------------LMFAOOOOOOOOOOOOOOOOOOOOOOOOOOOOOOOOOOOOOOOOOOOO---------------------\n",
      "------------------------LMFAOOOOOOOOOOOOOOOOOOOOOOOOOOOOOOOOOOOOOOOOOOOO---------------------\n",
      "------------------------LMFAOOOOOOOOOOOOOOOOOOOOOOOOOOOOOOOOOOOOOOOOOOOO---------------------\n",
      "------------------------LMFAOOOOOOOOOOOOOOOOOOOOOOOOOOOOOOOOOOOOOOOOOOOO---------------------\n",
      "------------------------LMFAOOOOOOOOOOOOOOOOOOOOOOOOOOOOOOOOOOOOOOOOOOOO---------------------\n",
      "------------------------LMFAOOOOOOOOOOOOOOOOOOOOOOOOOOOOOOOOOOOOOOOOOOOO---------------------\n",
      "------------------------LMFAOOOOOOOOOOOOOOOOOOOOOOOOOOOOOOOOOOOOOOOOOOOO---------------------\n"
     ]
    }
   ],
   "source": [
    "import drawing_utils_custom as cusDU\n",
    "\n",
    "cap = cv2.VideoCapture(0)\n",
    "## Setup mediapipe instance\n",
    "with mp_pose.Pose(min_detection_confidence=0.5, min_tracking_confidence=0.5) as pose:\n",
    "    while cap.isOpened():\n",
    "        ret, frame = cap.read()\n",
    "\n",
    "        # Recolor image to RGB\n",
    "        image = cv2.cvtColor(frame_sample, cv2.COLOR_BGR2RGB)\n",
    "        image.flags.writeable = False\n",
    "\n",
    "        # Make detection\n",
    "        results = pose.process(image)\n",
    "\n",
    "        # Recolor back to BGR\n",
    "        image.flags.writeable = True\n",
    "        image = cv2.cvtColor(image, cv2.COLOR_RGB2BGR)\n",
    "        \n",
    "        # Extract landmars\n",
    "        try:\n",
    "            landmarks = results.pose_landmarks.landmark\n",
    "        except:\n",
    "            pass\n",
    "\n",
    "        # Render detections\n",
    "        cusDU.draw_landmarks(image, results.pose_landmarks, mp_pose.POSE_CONNECTIONS,\n",
    "                             mp_drawing.DrawingSpec(color=(245,117,66), thickness=2, circle_radius=2),\n",
    "                             mp_drawing.DrawingSpec(color=(245,66,230), thickness=2, circle_radius=2)\n",
    "                             )\n",
    "\n",
    "        cv2.imshow('Mediapipe Feed', image)\n",
    "\n",
    "        if cv2.waitKey(10) & 0xFF == ord('q'):\n",
    "            break\n",
    "\n",
    "    cap.release()\n",
    "    cv2.destroyAllWindows()"
   ],
   "metadata": {
    "collapsed": false,
    "ExecuteTime": {
     "end_time": "2024-01-27T19:21:43.061952600Z",
     "start_time": "2024-01-27T19:21:35.993759600Z"
    }
   },
   "id": "8c3d499aaa99ca0e",
   "execution_count": 3
  },
  {
   "cell_type": "code",
   "outputs": [
    {
     "data": {
      "text/plain": "(33,\n google.protobuf.pyext._message.RepeatedCompositeContainer,\n [x: 0.48989811539649963\n y: 0.61760413646698\n z: -0.9513416290283203\n visibility: 0.9990546107292175\n , x: 0.5282148718833923\n y: 0.5566770434379578\n z: -0.8792210817337036\n visibility: 0.9972930550575256\n , x: 0.5469532012939453\n y: 0.5596698522567749\n z: -0.8786492347717285\n visibility: 0.9957111477851868\n , x: 0.5643629431724548\n y: 0.5635026693344116\n z: -0.8784559369087219\n visibility: 0.9971563816070557\n , x: 0.4614688754081726\n y: 0.5536788702011108\n z: -0.8621011972427368\n visibility: 0.998130738735199\n , x: 0.43552690744400024\n y: 0.5547784566879272\n z: -0.8615326881408691\n visibility: 0.9974036812782288\n , x: 0.41235336661338806\n y: 0.5570724010467529\n z: -0.8621935844421387\n visibility: 0.9989529848098755\n , x: 0.5862178206443787\n y: 0.593347430229187\n z: -0.512657642364502\n visibility: 0.9969112277030945\n , x: 0.39005425572395325\n y: 0.5878235101699829\n z: -0.39741602540016174\n visibility: 0.9993430376052856\n , x: 0.5233861207962036\n y: 0.6860800385475159\n z: -0.8256649971008301\n visibility: 0.9974576830863953\n , x: 0.4443361759185791\n y: 0.679964005947113\n z: -0.7975135445594788\n visibility: 0.999090850353241\n , x: 0.7263425588607788\n y: 0.8986285328865051\n z: -0.3687989115715027\n visibility: 0.972388744354248\n , x: 0.22448058426380157\n y: 0.8981161117553711\n z: -0.10119175910949707\n visibility: 0.9947943091392517\n , x: 1.0355201959609985\n y: 0.9011247754096985\n z: -0.7423349618911743\n visibility: 0.9417623281478882\n , x: -0.12699845433235168\n y: 0.9463590979576111\n z: -0.05582885071635246\n visibility: 0.9915145039558411\n , x: 0.8554463386535645\n y: 0.4952465295791626\n z: -0.6884653568267822\n visibility: 0.8241678476333618\n , x: 0.09542124718427658\n y: 0.5052471160888672\n z: 0.2926616668701172\n visibility: 0.9414904713630676\n , x: 0.800676167011261\n y: 0.3514866232872009\n z: -0.7621912360191345\n visibility: 0.49922141432762146\n , x: 0.16304580867290497\n y: 0.36130157113075256\n z: 0.224601149559021\n visibility: 0.7403638958930969\n , x: 0.74110347032547\n y: 0.3803645968437195\n z: -0.5619094967842102\n visibility: 0.47774046659469604\n , x: 0.21495398879051208\n y: 0.3704901337623596\n z: 0.41903576254844666\n visibility: 0.7521429657936096\n , x: 0.7211796641349792\n y: 0.4573793411254883\n z: -0.6307772994041443\n visibility: 0.509660542011261\n , x: 0.23078377544879913\n y: 0.4389829933643341\n z: 0.3418892025947571\n visibility: 0.7475171089172363\n , x: 0.6002572178840637\n y: 1.7507208585739136\n z: -0.16273833811283112\n visibility: 0.0010506464168429375\n , x: 0.2725222408771515\n y: 1.7430431842803955\n z: 0.1695139855146408\n visibility: 0.0010773895774036646\n , x: 0.5861204862594604\n y: 2.4645702838897705\n z: 0.04975397139787674\n visibility: 0.0014450994785875082\n , x: 0.28406304121017456\n y: 2.454768180847168\n z: 0.5666249394416809\n visibility: 0.0007042822544462979\n , x: 0.5890375375747681\n y: 3.0772998332977295\n z: 0.8487126231193542\n visibility: 1.9749952116399072e-05\n , x: 0.2925596833229065\n y: 3.047956705093384\n z: 1.295029878616333\n visibility: 9.313666851085145e-06\n , x: 0.6061469316482544\n y: 3.1833887100219727\n z: 0.893505871295929\n visibility: 1.9905666704289615e-05\n , x: 0.28465983271598816\n y: 3.1394600868225098\n z: 1.3585692644119263\n visibility: 2.9631328288814984e-05\n , x: 0.5302180647850037\n y: 3.272998094558716\n z: 0.21892710030078888\n visibility: 3.970486795878969e-05\n , x: 0.327729195356369\n y: 3.2820305824279785\n z: 0.6793981194496155\n visibility: 7.929867570055649e-05\n ])"
     },
     "execution_count": 26,
     "metadata": {},
     "output_type": "execute_result"
    }
   ],
   "source": [
    "len(landmarks), type(landmarks), landmarks"
   ],
   "metadata": {
    "collapsed": false,
    "ExecuteTime": {
     "end_time": "2024-01-27T19:13:16.089879700Z",
     "start_time": "2024-01-27T19:13:16.069524900Z"
    }
   },
   "id": "fd0b92927079c7f",
   "execution_count": 26
  },
  {
   "cell_type": "markdown",
   "source": [
    "# Drawing utils"
   ],
   "metadata": {
    "collapsed": false
   },
   "id": "bc17c1c8acea05ca"
  },
  {
   "cell_type": "code",
   "outputs": [
    {
     "name": "stdout",
     "output_type": "stream",
     "text": [
      "------------------------LMFAOOOOOOOOOOOOOOOOOOOOOOOOOOOOOOOOOOOOOOOOOOOO---------------------\n"
     ]
    }
   ],
   "source": [
    "import drawing_utils_custom as cusDU\n"
   ],
   "metadata": {
    "collapsed": false,
    "ExecuteTime": {
     "end_time": "2024-01-27T19:20:13.838549800Z",
     "start_time": "2024-01-27T19:20:13.802852600Z"
    }
   },
   "id": "400fb293f28739e5",
   "execution_count": 31
  }
 ],
 "metadata": {
  "kernelspec": {
   "display_name": "Python 3",
   "language": "python",
   "name": "python3"
  },
  "language_info": {
   "codemirror_mode": {
    "name": "ipython",
    "version": 2
   },
   "file_extension": ".py",
   "mimetype": "text/x-python",
   "name": "python",
   "nbconvert_exporter": "python",
   "pygments_lexer": "ipython2",
   "version": "2.7.6"
  }
 },
 "nbformat": 4,
 "nbformat_minor": 5
}
