{
 "cells": [
  {
   "cell_type": "code",
   "execution_count": 1,
   "id": "initial_id",
   "metadata": {
    "collapsed": true,
    "ExecuteTime": {
     "end_time": "2024-01-27T17:45:50.630054600Z",
     "start_time": "2024-01-27T17:45:21.930244900Z"
    }
   },
   "outputs": [
    {
     "name": "stdout",
     "output_type": "stream",
     "text": [
      "Collecting mediapipe\n",
      "  Downloading mediapipe-0.10.9-cp38-cp38-win_amd64.whl.metadata (9.8 kB)\n",
      "Collecting opencv-python\n",
      "  Downloading opencv_python-4.9.0.80-cp37-abi3-win_amd64.whl.metadata (20 kB)\n",
      "Collecting absl-py (from mediapipe)\n",
      "  Downloading absl_py-2.1.0-py3-none-any.whl.metadata (2.3 kB)\n",
      "Requirement already satisfied: attrs>=19.1.0 in c:\\users\\asus\\anaconda3\\envs\\mchacks\\lib\\site-packages (from mediapipe) (23.1.0)\n",
      "Collecting flatbuffers>=2.0 (from mediapipe)\n",
      "  Downloading flatbuffers-23.5.26-py2.py3-none-any.whl.metadata (850 bytes)\n",
      "Collecting matplotlib (from mediapipe)\n",
      "  Using cached matplotlib-3.7.4-cp38-cp38-win_amd64.whl.metadata (5.8 kB)\n",
      "Requirement already satisfied: numpy in c:\\users\\asus\\anaconda3\\envs\\mchacks\\lib\\site-packages (from mediapipe) (1.24.3)\n",
      "Collecting opencv-contrib-python (from mediapipe)\n",
      "  Downloading opencv_contrib_python-4.9.0.80-cp37-abi3-win_amd64.whl.metadata (20 kB)\n",
      "Collecting protobuf<4,>=3.11 (from mediapipe)\n",
      "  Downloading protobuf-3.20.3-cp38-cp38-win_amd64.whl (904 kB)\n",
      "     ---------------------------------------- 0.0/904.4 kB ? eta -:--:--\n",
      "     ---- --------------------------------- 112.6/904.4 kB 2.2 MB/s eta 0:00:01\n",
      "     ---------------------- --------------- 532.5/904.4 kB 5.6 MB/s eta 0:00:01\n",
      "     -------------------------------------- 904.4/904.4 kB 7.2 MB/s eta 0:00:00\n",
      "Collecting sounddevice>=0.4.4 (from mediapipe)\n",
      "  Downloading sounddevice-0.4.6-py3-none-win_amd64.whl (199 kB)\n",
      "     ---------------------------------------- 0.0/199.7 kB ? eta -:--:--\n",
      "     ---------------------------------------- 199.7/199.7 kB ? eta 0:00:00\n",
      "Requirement already satisfied: CFFI>=1.0 in c:\\users\\asus\\anaconda3\\envs\\mchacks\\lib\\site-packages (from sounddevice>=0.4.4->mediapipe) (1.16.0)\n",
      "Collecting contourpy>=1.0.1 (from matplotlib->mediapipe)\n",
      "  Using cached contourpy-1.1.1-cp38-cp38-win_amd64.whl.metadata (5.9 kB)\n",
      "Collecting cycler>=0.10 (from matplotlib->mediapipe)\n",
      "  Using cached cycler-0.12.1-py3-none-any.whl.metadata (3.8 kB)\n",
      "Collecting fonttools>=4.22.0 (from matplotlib->mediapipe)\n",
      "  Using cached fonttools-4.47.2-cp38-cp38-win_amd64.whl.metadata (160 kB)\n",
      "Collecting kiwisolver>=1.0.1 (from matplotlib->mediapipe)\n",
      "  Using cached kiwisolver-1.4.5-cp38-cp38-win_amd64.whl.metadata (6.5 kB)\n",
      "Requirement already satisfied: packaging>=20.0 in c:\\users\\asus\\anaconda3\\envs\\mchacks\\lib\\site-packages (from matplotlib->mediapipe) (23.1)\n",
      "Collecting pillow>=6.2.0 (from matplotlib->mediapipe)\n",
      "  Using cached pillow-10.2.0-cp38-cp38-win_amd64.whl.metadata (9.9 kB)\n",
      "Collecting pyparsing>=2.3.1 (from matplotlib->mediapipe)\n",
      "  Using cached pyparsing-3.1.1-py3-none-any.whl.metadata (5.1 kB)\n",
      "Requirement already satisfied: python-dateutil>=2.7 in c:\\users\\asus\\anaconda3\\envs\\mchacks\\lib\\site-packages (from matplotlib->mediapipe) (2.8.2)\n",
      "Requirement already satisfied: importlib-resources>=3.2.0 in c:\\users\\asus\\anaconda3\\envs\\mchacks\\lib\\site-packages (from matplotlib->mediapipe) (6.1.1)\n",
      "Requirement already satisfied: pycparser in c:\\users\\asus\\anaconda3\\envs\\mchacks\\lib\\site-packages (from CFFI>=1.0->sounddevice>=0.4.4->mediapipe) (2.21)\n",
      "Requirement already satisfied: zipp>=3.1.0 in c:\\users\\asus\\anaconda3\\envs\\mchacks\\lib\\site-packages (from importlib-resources>=3.2.0->matplotlib->mediapipe) (3.17.0)\n",
      "Requirement already satisfied: six>=1.5 in c:\\users\\asus\\anaconda3\\envs\\mchacks\\lib\\site-packages (from python-dateutil>=2.7->matplotlib->mediapipe) (1.16.0)\n",
      "Downloading mediapipe-0.10.9-cp38-cp38-win_amd64.whl (50.5 MB)\n",
      "   ---------------------------------------- 0.0/50.5 MB ? eta -:--:--\n",
      "   - -------------------------------------- 1.4/50.5 MB 28.8 MB/s eta 0:00:02\n",
      "   -- ------------------------------------- 2.6/50.5 MB 27.8 MB/s eta 0:00:02\n",
      "   -- ------------------------------------- 3.5/50.5 MB 24.8 MB/s eta 0:00:02\n",
      "   -- ------------------------------------- 3.6/50.5 MB 25.4 MB/s eta 0:00:02\n",
      "   --- ------------------------------------ 4.2/50.5 MB 17.8 MB/s eta 0:00:03\n",
      "   ---- ----------------------------------- 5.5/50.5 MB 19.4 MB/s eta 0:00:03\n",
      "   ---- ----------------------------------- 6.3/50.5 MB 19.1 MB/s eta 0:00:03\n",
      "   ------ --------------------------------- 7.6/50.5 MB 20.3 MB/s eta 0:00:03\n",
      "   ------ --------------------------------- 8.8/50.5 MB 20.8 MB/s eta 0:00:03\n",
      "   ------- -------------------------------- 10.0/50.5 MB 21.4 MB/s eta 0:00:02\n",
      "   --------- ------------------------------ 11.6/50.5 MB 21.1 MB/s eta 0:00:02\n",
      "   ---------- ----------------------------- 12.7/50.5 MB 21.1 MB/s eta 0:00:02\n",
      "   ----------- ---------------------------- 14.2/50.5 MB 25.2 MB/s eta 0:00:02\n",
      "   ------------ --------------------------- 15.4/50.5 MB 25.2 MB/s eta 0:00:02\n",
      "   ------------ --------------------------- 16.3/50.5 MB 25.2 MB/s eta 0:00:02\n",
      "   ------------- -------------------------- 17.4/50.5 MB 26.2 MB/s eta 0:00:02\n",
      "   -------------- ------------------------- 18.7/50.5 MB 25.2 MB/s eta 0:00:02\n",
      "   --------------- ------------------------ 19.8/50.5 MB 26.2 MB/s eta 0:00:02\n",
      "   ---------------- ----------------------- 20.8/50.5 MB 25.1 MB/s eta 0:00:02\n",
      "   ----------------- ---------------------- 21.6/50.5 MB 23.4 MB/s eta 0:00:02\n",
      "   ----------------- ---------------------- 22.0/50.5 MB 25.1 MB/s eta 0:00:02\n",
      "   ----------------- ---------------------- 22.0/50.5 MB 25.1 MB/s eta 0:00:02\n",
      "   ----------------- ---------------------- 22.0/50.5 MB 25.1 MB/s eta 0:00:02\n",
      "   ----------------- ---------------------- 22.0/50.5 MB 25.1 MB/s eta 0:00:02\n",
      "   ----------------- ---------------------- 22.0/50.5 MB 25.1 MB/s eta 0:00:02\n",
      "   ----------------- ---------------------- 22.3/50.5 MB 14.9 MB/s eta 0:00:02\n",
      "   ------------------ --------------------- 23.0/50.5 MB 14.6 MB/s eta 0:00:02\n",
      "   ------------------ --------------------- 23.8/50.5 MB 14.2 MB/s eta 0:00:02\n",
      "   ------------------- -------------------- 25.0/50.5 MB 13.9 MB/s eta 0:00:02\n",
      "   -------------------- ------------------- 25.6/50.5 MB 13.6 MB/s eta 0:00:02\n",
      "   --------------------- ------------------ 26.5/50.5 MB 13.6 MB/s eta 0:00:02\n",
      "   --------------------- ------------------ 27.3/50.5 MB 13.9 MB/s eta 0:00:02\n",
      "   --------------------- ------------------ 27.3/50.5 MB 13.9 MB/s eta 0:00:02\n",
      "   --------------------- ------------------ 27.4/50.5 MB 11.9 MB/s eta 0:00:02\n",
      "   ---------------------- ----------------- 28.8/50.5 MB 11.9 MB/s eta 0:00:02\n",
      "   ----------------------- ---------------- 30.0/50.5 MB 11.9 MB/s eta 0:00:02\n",
      "   ------------------------ --------------- 30.9/50.5 MB 11.9 MB/s eta 0:00:02\n",
      "   ------------------------ --------------- 31.5/50.5 MB 11.9 MB/s eta 0:00:02\n",
      "   ------------------------- -------------- 31.8/50.5 MB 11.5 MB/s eta 0:00:02\n",
      "   ------------------------- -------------- 32.7/50.5 MB 16.0 MB/s eta 0:00:02\n",
      "   -------------------------- ------------- 33.2/50.5 MB 16.0 MB/s eta 0:00:02\n",
      "   -------------------------- ------------- 34.0/50.5 MB 16.0 MB/s eta 0:00:02\n",
      "   --------------------------- ------------ 35.1/50.5 MB 15.6 MB/s eta 0:00:01\n",
      "   ---------------------------- ----------- 35.9/50.5 MB 15.6 MB/s eta 0:00:01\n",
      "   ---------------------------- ----------- 36.6/50.5 MB 15.6 MB/s eta 0:00:01\n",
      "   ----------------------------- ---------- 37.8/50.5 MB 18.2 MB/s eta 0:00:01\n",
      "   ------------------------------ --------- 39.0/50.5 MB 18.2 MB/s eta 0:00:01\n",
      "   -------------------------------- ------- 40.5/50.5 MB 18.2 MB/s eta 0:00:01\n",
      "   --------------------------------- ------ 41.7/50.5 MB 20.5 MB/s eta 0:00:01\n",
      "   ---------------------------------- ----- 43.0/50.5 MB 21.1 MB/s eta 0:00:01\n",
      "   ---------------------------------- ----- 44.2/50.5 MB 22.6 MB/s eta 0:00:01\n",
      "   ----------------------------------- ---- 44.9/50.5 MB 22.6 MB/s eta 0:00:01\n",
      "   ------------------------------------ --- 45.6/50.5 MB 21.8 MB/s eta 0:00:01\n",
      "   ------------------------------------- -- 46.8/50.5 MB 22.6 MB/s eta 0:00:01\n",
      "   -------------------------------------- - 48.2/50.5 MB 24.2 MB/s eta 0:00:01\n",
      "   ---------------------------------------  49.5/50.5 MB 24.2 MB/s eta 0:00:01\n",
      "   ---------------------------------------  50.5/50.5 MB 25.2 MB/s eta 0:00:01\n",
      "   ---------------------------------------  50.5/50.5 MB 25.2 MB/s eta 0:00:01\n",
      "   ---------------------------------------- 50.5/50.5 MB 19.3 MB/s eta 0:00:00\n",
      "Downloading opencv_python-4.9.0.80-cp37-abi3-win_amd64.whl (38.6 MB)\n",
      "   ---------------------------------------- 0.0/38.6 MB ? eta -:--:--\n",
      "   - -------------------------------------- 1.3/38.6 MB 27.4 MB/s eta 0:00:02\n",
      "   -- ------------------------------------- 2.4/38.6 MB 25.2 MB/s eta 0:00:02\n",
      "   --- ------------------------------------ 3.0/38.6 MB 24.2 MB/s eta 0:00:02\n",
      "   --- ------------------------------------ 3.6/38.6 MB 19.3 MB/s eta 0:00:02\n",
      "   ---- ----------------------------------- 4.6/38.6 MB 18.6 MB/s eta 0:00:02\n",
      "   ------ --------------------------------- 6.0/38.6 MB 19.3 MB/s eta 0:00:02\n",
      "   -------- ------------------------------- 7.9/38.6 MB 21.1 MB/s eta 0:00:02\n",
      "   --------- ------------------------------ 9.2/38.6 MB 21.9 MB/s eta 0:00:02\n",
      "   ---------- ----------------------------- 10.3/38.6 MB 21.9 MB/s eta 0:00:02\n",
      "   ----------- ---------------------------- 11.2/38.6 MB 21.1 MB/s eta 0:00:02\n",
      "   ------------ --------------------------- 12.3/38.6 MB 21.1 MB/s eta 0:00:02\n",
      "   -------------- ------------------------- 13.6/38.6 MB 22.6 MB/s eta 0:00:02\n",
      "   --------------- ------------------------ 14.5/38.6 MB 24.2 MB/s eta 0:00:01\n",
      "   --------------- ------------------------ 15.2/38.6 MB 23.4 MB/s eta 0:00:02\n",
      "   ---------------- ----------------------- 16.2/38.6 MB 23.4 MB/s eta 0:00:01\n",
      "   ----------------- ---------------------- 17.2/38.6 MB 22.6 MB/s eta 0:00:01\n",
      "   ------------------- -------------------- 18.7/38.6 MB 23.4 MB/s eta 0:00:01\n",
      "   -------------------- ------------------- 20.2/38.6 MB 23.4 MB/s eta 0:00:01\n",
      "   ----------------------- ---------------- 22.3/38.6 MB 25.1 MB/s eta 0:00:01\n",
      "   ----------------------- ---------------- 23.2/38.6 MB 25.1 MB/s eta 0:00:01\n",
      "   ------------------------- -------------- 24.6/38.6 MB 24.2 MB/s eta 0:00:01\n",
      "   --------------------------- ------------ 26.1/38.6 MB 26.2 MB/s eta 0:00:01\n",
      "   ---------------------------- ----------- 27.2/38.6 MB 27.3 MB/s eta 0:00:01\n",
      "   ----------------------------- ---------- 28.0/38.6 MB 27.3 MB/s eta 0:00:01\n",
      "   ----------------------------- ---------- 28.8/38.6 MB 24.2 MB/s eta 0:00:01\n",
      "   ------------------------------- -------- 30.1/38.6 MB 25.2 MB/s eta 0:00:01\n",
      "   -------------------------------- ------- 31.4/38.6 MB 24.2 MB/s eta 0:00:01\n",
      "   --------------------------------- ------ 32.6/38.6 MB 23.4 MB/s eta 0:00:01\n",
      "   ----------------------------------- ---- 33.8/38.6 MB 24.2 MB/s eta 0:00:01\n",
      "   ------------------------------------ --- 34.8/38.6 MB 24.2 MB/s eta 0:00:01\n",
      "   ------------------------------------- -- 35.8/38.6 MB 24.2 MB/s eta 0:00:01\n",
      "   -------------------------------------- - 37.0/38.6 MB 22.6 MB/s eta 0:00:01\n",
      "   ---------------------------------------  37.8/38.6 MB 23.4 MB/s eta 0:00:01\n",
      "   ---------------------------------------  38.6/38.6 MB 23.4 MB/s eta 0:00:01\n",
      "   ---------------------------------------  38.6/38.6 MB 23.4 MB/s eta 0:00:01\n",
      "   ---------------------------------------  38.6/38.6 MB 23.4 MB/s eta 0:00:01\n",
      "   ---------------------------------------- 38.6/38.6 MB 18.2 MB/s eta 0:00:00\n",
      "Downloading flatbuffers-23.5.26-py2.py3-none-any.whl (26 kB)\n",
      "Downloading absl_py-2.1.0-py3-none-any.whl (133 kB)\n",
      "   ---------------------------------------- 0.0/133.7 kB ? eta -:--:--\n",
      "   ---------------------------------------- 133.7/133.7 kB 7.7 MB/s eta 0:00:00\n",
      "Using cached matplotlib-3.7.4-cp38-cp38-win_amd64.whl (7.5 MB)\n",
      "Downloading opencv_contrib_python-4.9.0.80-cp37-abi3-win_amd64.whl (45.3 MB)\n",
      "   ---------------------------------------- 0.0/45.3 MB ? eta -:--:--\n",
      "   - -------------------------------------- 1.8/45.3 MB 37.0 MB/s eta 0:00:02\n",
      "   -- ------------------------------------- 2.7/45.3 MB 28.9 MB/s eta 0:00:02\n",
      "   --- ------------------------------------ 3.6/45.3 MB 25.1 MB/s eta 0:00:02\n",
      "   ---- ----------------------------------- 4.6/45.3 MB 24.5 MB/s eta 0:00:02\n",
      "   ----- ---------------------------------- 5.8/45.3 MB 23.3 MB/s eta 0:00:02\n",
      "   ------ --------------------------------- 7.1/45.3 MB 22.5 MB/s eta 0:00:02\n",
      "   ------- -------------------------------- 8.4/45.3 MB 22.4 MB/s eta 0:00:02\n",
      "   -------- ------------------------------- 9.8/45.3 MB 23.3 MB/s eta 0:00:02\n",
      "   --------- ------------------------------ 11.1/45.3 MB 22.6 MB/s eta 0:00:02\n",
      "   ----------- ---------------------------- 12.5/45.3 MB 23.4 MB/s eta 0:00:02\n",
      "   ------------ --------------------------- 14.0/45.3 MB 26.2 MB/s eta 0:00:02\n",
      "   ------------- -------------------------- 15.3/45.3 MB 27.3 MB/s eta 0:00:02\n",
      "   -------------- ------------------------- 16.4/45.3 MB 26.2 MB/s eta 0:00:02\n",
      "   --------------- ------------------------ 17.9/45.3 MB 29.7 MB/s eta 0:00:01\n",
      "   ----------------- ---------------------- 19.4/45.3 MB 28.5 MB/s eta 0:00:01\n",
      "   ------------------ --------------------- 20.6/45.3 MB 29.8 MB/s eta 0:00:01\n",
      "   ------------------- -------------------- 21.7/45.3 MB 29.7 MB/s eta 0:00:01\n",
      "   -------------------- ------------------- 22.7/45.3 MB 27.3 MB/s eta 0:00:01\n",
      "   --------------------- ------------------ 24.2/45.3 MB 26.2 MB/s eta 0:00:01\n",
      "   ---------------------- ----------------- 25.5/45.3 MB 25.2 MB/s eta 0:00:01\n",
      "   ----------------------- ---------------- 26.8/45.3 MB 25.1 MB/s eta 0:00:01\n",
      "   ----------------------- ---------------- 27.0/45.3 MB 21.8 MB/s eta 0:00:01\n",
      "   ------------------------ --------------- 28.1/45.3 MB 21.8 MB/s eta 0:00:01\n",
      "   ------------------------- -------------- 29.4/45.3 MB 21.1 MB/s eta 0:00:01\n",
      "   --------------------------- ------------ 31.1/45.3 MB 21.1 MB/s eta 0:00:01\n",
      "   ---------------------------- ----------- 31.8/45.3 MB 20.5 MB/s eta 0:00:01\n",
      "   ----------------------------- ---------- 33.1/45.3 MB 21.1 MB/s eta 0:00:01\n",
      "   ------------------------------ --------- 34.1/45.3 MB 21.1 MB/s eta 0:00:01\n",
      "   ------------------------------- -------- 35.1/45.3 MB 21.1 MB/s eta 0:00:01\n",
      "   ------------------------------- -------- 36.0/45.3 MB 20.5 MB/s eta 0:00:01\n",
      "   --------------------------------- ------ 37.5/45.3 MB 24.2 MB/s eta 0:00:01\n",
      "   ---------------------------------- ----- 39.0/45.3 MB 25.2 MB/s eta 0:00:01\n",
      "   ----------------------------------- ---- 40.4/45.3 MB 25.2 MB/s eta 0:00:01\n",
      "   ------------------------------------ --- 41.4/45.3 MB 24.2 MB/s eta 0:00:01\n",
      "   ------------------------------------- -- 42.3/45.3 MB 25.2 MB/s eta 0:00:01\n",
      "   -------------------------------------- - 43.3/45.3 MB 25.2 MB/s eta 0:00:01\n",
      "   ---------------------------------------  44.6/45.3 MB 25.2 MB/s eta 0:00:01\n",
      "   ---------------------------------------  45.3/45.3 MB 25.2 MB/s eta 0:00:01\n",
      "   ---------------------------------------  45.3/45.3 MB 25.2 MB/s eta 0:00:01\n",
      "   ---------------------------------------- 45.3/45.3 MB 19.2 MB/s eta 0:00:00\n",
      "Using cached contourpy-1.1.1-cp38-cp38-win_amd64.whl (477 kB)\n",
      "Using cached cycler-0.12.1-py3-none-any.whl (8.3 kB)\n",
      "Using cached fonttools-4.47.2-cp38-cp38-win_amd64.whl (1.5 MB)\n",
      "Using cached kiwisolver-1.4.5-cp38-cp38-win_amd64.whl (56 kB)\n",
      "Using cached pillow-10.2.0-cp38-cp38-win_amd64.whl (2.6 MB)\n",
      "Using cached pyparsing-3.1.1-py3-none-any.whl (103 kB)\n",
      "Installing collected packages: flatbuffers, pyparsing, protobuf, pillow, opencv-python, opencv-contrib-python, kiwisolver, fonttools, cycler, contourpy, absl-py, sounddevice, matplotlib, mediapipe\n",
      "Successfully installed absl-py-2.1.0 contourpy-1.1.1 cycler-0.12.1 flatbuffers-23.5.26 fonttools-4.47.2 kiwisolver-1.4.5 matplotlib-3.7.4 mediapipe-0.10.9 opencv-contrib-python-4.9.0.80 opencv-python-4.9.0.80 pillow-10.2.0 protobuf-3.20.3 pyparsing-3.1.1 sounddevice-0.4.6\n"
     ]
    }
   ],
   "source": [
    "!pip install mediapipe opencv-python"
   ]
  },
  {
   "cell_type": "code",
   "outputs": [],
   "source": [
    "lol = []\n",
    "setattr(lol, 'pose_landmarks', 'lol')\n",
    "lol"
   ],
   "metadata": {
    "collapsed": false
   },
   "id": "e4f9b73460594feb"
  },
  {
   "cell_type": "code",
   "outputs": [
    {
     "name": "stdout",
     "output_type": "stream",
     "text": [
      "<class 'numpy.ndarray'> (480, 640, 3)\n"
     ]
    }
   ],
   "source": [
    "import cv2\n",
    "import mediapipe as mp\n",
    "import numpy as np\n",
    "mp_drawing = mp.solutions.drawing_utils\n",
    "mp_pose = mp.solutions.pose\n",
    "\n",
    "# open picture and represent it as an array\n",
    "frame_sample = cv2.imread('../images/sample_003.jpg')\n",
    "# downscale the frame to 480x640\n",
    "frame_sample = cv2.resize(frame_sample, (640, 480))\n",
    "print(type(frame_sample), frame_sample.shape)"
   ],
   "metadata": {
    "collapsed": false,
    "ExecuteTime": {
     "end_time": "2024-01-27T20:37:17.901112900Z",
     "start_time": "2024-01-27T20:37:17.842805300Z"
    }
   },
   "id": "619fa11fe0ede910",
   "execution_count": 33
  },
  {
   "cell_type": "markdown",
   "source": [
    "# Make detection"
   ],
   "metadata": {
    "collapsed": false
   },
   "id": "c117b9d68fffbc98"
  },
  {
   "cell_type": "code",
   "outputs": [],
   "source": [
    "import drawing_utils_custom as cusDU\n",
    "\n",
    "cap = cv2.VideoCapture(0)\n",
    "## Setup mediapipe instance\n",
    "with mp_pose.Pose(min_detection_confidence=0.5, min_tracking_confidence=0.5) as pose:\n",
    "    while cap.isOpened():\n",
    "        ret, frame = cap.read()\n",
    "\n",
    "        # Recolor image to RGB\n",
    "        image = cv2.cvtColor(frame_sample, cv2.COLOR_BGR2RGB)\n",
    "        image.flags.writeable = False\n",
    "\n",
    "        # Make detection\n",
    "        results = pose.process(image)\n",
    "\n",
    "        # Recolor back to BGR\n",
    "        image.flags.writeable = True\n",
    "        image = cv2.cvtColor(image, cv2.COLOR_RGB2BGR)\n",
    "        \n",
    "        # Extract landmars\n",
    "        try:\n",
    "            landmarks = results.pose_landmarks.landmark\n",
    "        except:\n",
    "            pass\n",
    "\n",
    "        # Render detections\n",
    "        cusDU.draw_landmarks(image, results.pose_landmarks, mp_pose.POSE_CONNECTIONS,\n",
    "                             mp_drawing.DrawingSpec(color=(245,117,66), thickness=2, circle_radius=2),\n",
    "                             mp_drawing.DrawingSpec(color=(245,66,230), thickness=2, circle_radius=2)\n",
    "                             )\n",
    "\n",
    "        cv2.imshow('Mediapipe Feed', image)\n",
    "\n",
    "        if cv2.waitKey(10) & 0xFF == ord('q'):\n",
    "            break\n",
    "\n",
    "    cap.release()\n",
    "    cv2.destroyAllWindows()"
   ],
   "metadata": {
    "collapsed": false,
    "ExecuteTime": {
     "end_time": "2024-01-27T20:37:27.832439800Z",
     "start_time": "2024-01-27T20:37:21.840760700Z"
    }
   },
   "id": "8c3d499aaa99ca0e",
   "execution_count": 34
  },
  {
   "cell_type": "code",
   "outputs": [
    {
     "data": {
      "text/plain": "'lol'"
     },
     "execution_count": 14,
     "metadata": {},
     "output_type": "execute_result"
    }
   ],
   "source": [
    "results.pose_landmarks"
   ],
   "metadata": {
    "collapsed": false,
    "ExecuteTime": {
     "end_time": "2024-01-27T19:51:04.982866600Z",
     "start_time": "2024-01-27T19:51:04.953989600Z"
    }
   },
   "id": "3d737a75c593c98b",
   "execution_count": 14
  },
  {
   "cell_type": "code",
   "outputs": [
    {
     "data": {
      "text/plain": "(33,\n google.protobuf.pyext._message.RepeatedCompositeContainer,\n [x: 0.726093590259552\n y: 0.6525042057037354\n z: -0.6397758722305298\n visibility: 0.9992882013320923\n , x: 0.7486752867698669\n y: 0.6080146431922913\n z: -0.5429905652999878\n visibility: 0.9983070492744446\n , x: 0.7632274627685547\n y: 0.614676833152771\n z: -0.5425390601158142\n visibility: 0.9967759847640991\n , x: 0.7776963114738464\n y: 0.6215528249740601\n z: -0.5425680875778198\n visibility: 0.9973766207695007\n , x: 0.7004060745239258\n y: 0.5907191038131714\n z: -0.5790209174156189\n visibility: 0.9991148710250854\n , x: 0.6790408492088318\n y: 0.5856251120567322\n z: -0.5787478089332581\n visibility: 0.9991275668144226\n , x: 0.6572329998016357\n y: 0.5813436508178711\n z: -0.5795068144798279\n visibility: 0.9996441602706909\n , x: 0.7763915657997131\n y: 0.651668131351471\n z: -0.08048124611377716\n visibility: 0.9962092041969299\n , x: 0.6059779524803162\n y: 0.6006619334220886\n z: -0.2192179262638092\n visibility: 0.9998436570167542\n , x: 0.7366897463798523\n y: 0.7151663899421692\n z: -0.47814932465553284\n visibility: 0.9979300498962402\n , x: 0.686406672000885\n y: 0.6930078268051147\n z: -0.5210884809494019\n visibility: 0.9995763897895813\n , x: 0.8433812260627747\n y: 0.8946981430053711\n z: 0.19785209000110626\n visibility: 0.8894347548484802\n , x: 0.44365423917770386\n y: 0.8237993121147156\n z: -0.23954300582408905\n visibility: 0.9988028407096863\n , x: 1.010326862335205\n y: 0.8886677026748657\n z: 0.20946145057678223\n visibility: 0.39133086800575256\n , x: 0.2357131540775299\n y: 0.6344611644744873\n z: -0.5443587303161621\n visibility: 0.9982043504714966\n , x: 1.0074695348739624\n y: 0.6246333718299866\n z: 0.30797964334487915\n visibility: 0.14280389249324799\n , x: 0.5081378817558289\n y: 0.33389797806739807\n z: -0.3585185408592224\n visibility: 0.9655963778495789\n , x: 1.0073268413543701\n y: 0.5534446239471436\n z: 0.29048213362693787\n visibility: 0.07081073522567749\n , x: 0.5895442366600037\n y: 0.26139217615127563\n z: -0.4277164340019226\n visibility: 0.805868923664093\n , x: 0.9799271821975708\n y: 0.5532677173614502\n z: 0.3882926106452942\n visibility: 0.07434927672147751\n , x: 0.6074509024620056\n y: 0.2699578106403351\n z: -0.2776426374912262\n visibility: 0.8030379414558411\n , x: 0.9674670100212097\n y: 0.5870516896247864\n z: 0.3202560544013977\n visibility: 0.09529515355825424\n , x: 0.5830301642417908\n y: 0.3086773753166199\n z: -0.3138788044452667\n visibility: 0.8114883899688721\n , x: 0.7662678956985474\n y: 1.6190537214279175\n z: -0.012732897885143757\n visibility: 0.0021046900656074286\n , x: 0.4861714243888855\n y: 1.593589186668396\n z: 0.01628640480339527\n visibility: 0.004634123761206865\n , x: 0.7329950928688049\n y: 2.2292792797088623\n z: -0.00567967351526022\n visibility: 0.0018853869987651706\n , x: 0.48283129930496216\n y: 2.208221435546875\n z: 0.0588844008743763\n visibility: 0.0016657551750540733\n , x: 0.7074568867683411\n y: 2.773169994354248\n z: 0.49277275800704956\n visibility: 0.00015927132335491478\n , x: 0.46547436714172363\n y: 2.7605814933776855\n z: 0.44099536538124084\n visibility: 6.0996073443675414e-05\n , x: 0.701825737953186\n y: 2.8510420322418213\n z: 0.5094895958900452\n visibility: 0.00018582434859126806\n , x: 0.44736990332603455\n y: 2.837149143218994\n z: 0.4697692394256592\n visibility: 0.0001416277082171291\n , x: 0.6899005174636841\n y: 2.9704389572143555\n z: -0.044600822031497955\n visibility: 0.00013891133130528033\n , x: 0.5119611024856567\n y: 2.957319736480713\n z: -0.17435741424560547\n visibility: 0.00021860501146875322\n ])"
     },
     "execution_count": 16,
     "metadata": {},
     "output_type": "execute_result"
    }
   ],
   "source": [
    "len(landmarks), type(landmarks), landmarks"
   ],
   "metadata": {
    "collapsed": false,
    "ExecuteTime": {
     "end_time": "2024-01-27T20:15:42.105810600Z",
     "start_time": "2024-01-27T20:15:42.092750500Z"
    }
   },
   "id": "fd0b92927079c7f",
   "execution_count": 16
  },
  {
   "cell_type": "code",
   "outputs": [],
   "source": [
    "land_list = []\n",
    "for i in range(len(landmarks)):\n",
    "    land_list.append(landmarks[i])"
   ],
   "metadata": {
    "collapsed": false,
    "ExecuteTime": {
     "end_time": "2024-01-27T20:22:16.477845700Z",
     "start_time": "2024-01-27T20:22:16.452729200Z"
    }
   },
   "id": "ac60d6f2571df2a8",
   "execution_count": 26
  },
  {
   "cell_type": "code",
   "outputs": [
    {
     "data": {
      "text/plain": "x: 0.726093590259552\ny: 0.6525042057037354\nz: -0.6397758722305298\nvisibility: 0.9992882013320923"
     },
     "execution_count": 30,
     "metadata": {},
     "output_type": "execute_result"
    }
   ],
   "source": [
    "land_list[0]"
   ],
   "metadata": {
    "collapsed": false,
    "ExecuteTime": {
     "end_time": "2024-01-27T20:32:00.916711600Z",
     "start_time": "2024-01-27T20:32:00.899474300Z"
    }
   },
   "id": "b9537a9b81f6dbb",
   "execution_count": 30
  },
  {
   "cell_type": "code",
   "outputs": [],
   "source": [
    "def generate_landmarks(image_path):\n",
    "    with mp_pose.Pose(min_detection_confidence=0.5, min_tracking_confidence=0.5) as pose:\n",
    "        # open picture and represent it as an array\n",
    "        image_frame = cv2.imread(image_path)\n",
    "        image_frame = cv2.resize(image_frame, (480, 480))\n",
    "        image_frame = cv2.cvtColor(image_frame, cv2.COLOR_BGR2RGB)\n",
    "        image_frame.flags.writeable = False\n",
    "    \n",
    "        # Make detection\n",
    "        processed = pose.process(image_frame)\n",
    "    \n",
    "        # Extract landmarks\n",
    "        try:\n",
    "            landmark = processed.pose_landmarks.landmark\n",
    "        except:\n",
    "            print(\"---------------------LANDMARK NOT DETECTED ERROR----------------------\")\n",
    "            return -1\n",
    "    \n",
    "        landmark_list = []\n",
    "        delete_list = [1, 2, 3, 4, 5, 6, 7, 8, 9, 10, 17, 18, 19, 20, 21, 22, 29, 30, 31, 32]\n",
    "        for i in range(len(landmark)):\n",
    "            if i not in delete_list:\n",
    "                if landmark[i].visibility > 0.6:\n",
    "                    landmark_list.append([landmark[i].x, landmark[i].y, landmark[i].z])\n",
    "                else:\n",
    "                    landmark_list.append([0, 0, 0])\n",
    "            \n",
    "        land_arr = np.array(landmark_list, dtype=np.float64)\n",
    "        return land_arr"
   ],
   "metadata": {
    "collapsed": false,
    "ExecuteTime": {
     "end_time": "2024-01-27T21:12:53.164876Z",
     "start_time": "2024-01-27T21:12:53.134842100Z"
    }
   },
   "id": "c62a98fa4f201fcf",
   "execution_count": 49
  },
  {
   "cell_type": "code",
   "outputs": [
    {
     "name": "stdout",
     "output_type": "stream",
     "text": [
      "<class 'numpy.ndarray'> (13, 3) [[ 0.71672636  0.64306247 -0.58199513]\n",
      " [ 0.87037188  0.89536077  0.20988449]\n",
      " [ 0.43634316  0.81642205 -0.22584482]\n",
      " [ 0.          0.          0.        ]\n",
      " [ 0.22611794  0.64119053 -0.85175544]\n",
      " [ 0.          0.          0.        ]\n",
      " [ 0.50738931  0.32446945 -1.05297244]\n",
      " [ 0.          0.          0.        ]\n",
      " [ 0.          0.          0.        ]\n",
      " [ 0.          0.          0.        ]\n",
      " [ 0.          0.          0.        ]\n",
      " [ 0.          0.          0.        ]\n",
      " [ 0.          0.          0.        ]]\n"
     ]
    }
   ],
   "source": [
    "arr = None\n",
    "# with mp_pose.Pose(min_detection_confidence=0.5, min_tracking_confidence=0.5) as pose:\n",
    "arr = generate_landmarks('../images/sample_003.jpg')\n",
    "print(type(arr), arr.shape, arr)"
   ],
   "metadata": {
    "collapsed": false,
    "ExecuteTime": {
     "end_time": "2024-01-27T21:12:59.288751400Z",
     "start_time": "2024-01-27T21:12:59.023658700Z"
    }
   },
   "id": "83484c1b025b8942",
   "execution_count": 50
  },
  {
   "cell_type": "code",
   "outputs": [
    {
     "name": "stdout",
     "output_type": "stream",
     "text": [
      "<class 'numpy.ndarray'> (13, 3) [[ 0.71672636  0.64306247 -0.58199513]\n",
      " [ 0.87037188  0.89536077  0.20988449]\n",
      " [ 0.43634316  0.81642205 -0.22584482]\n",
      " [ 0.          0.          0.        ]\n",
      " [ 0.22611794  0.64119053 -0.85175544]\n",
      " [ 0.          0.          0.        ]\n",
      " [ 0.50738931  0.32446945 -1.05297244]\n",
      " [ 0.          0.          0.        ]\n",
      " [ 0.          0.          0.        ]\n",
      " [ 0.          0.          0.        ]\n",
      " [ 0.          0.          0.        ]\n",
      " [ 0.          0.          0.        ]\n",
      " [ 0.          0.          0.        ]]\n"
     ]
    }
   ],
   "source": [
    "import landmark_utils as lu\n",
    "arr2 = None\n",
    "# with mp_pose.Pose(min_detection_confidence=0.5, min_tracking_confidence=0.5) as pose:\n",
    "arr2 = lu.generate_landmarks('../images/sample_003.jpg')\n",
    "print(type(arr2), arr2.shape, arr2)"
   ],
   "metadata": {
    "collapsed": false,
    "ExecuteTime": {
     "end_time": "2024-01-27T21:14:05.427244300Z",
     "start_time": "2024-01-27T21:14:05.171565Z"
    }
   },
   "id": "d2e19a6e7ff88f7",
   "execution_count": 51
  }
 ],
 "metadata": {
  "kernelspec": {
   "display_name": "Python 3",
   "language": "python",
   "name": "python3"
  },
  "language_info": {
   "codemirror_mode": {
    "name": "ipython",
    "version": 2
   },
   "file_extension": ".py",
   "mimetype": "text/x-python",
   "name": "python",
   "nbconvert_exporter": "python",
   "pygments_lexer": "ipython2",
   "version": "2.7.6"
  }
 },
 "nbformat": 4,
 "nbformat_minor": 5
}
