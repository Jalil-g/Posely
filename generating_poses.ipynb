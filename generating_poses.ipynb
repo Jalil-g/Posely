{
 "cells": [
  {
   "cell_type": "code",
   "outputs": [],
   "source": [
    "from data_transformation.landmark_utils import *"
   ],
   "metadata": {
    "collapsed": false,
    "ExecuteTime": {
     "end_time": "2024-01-28T14:44:57.093548400Z",
     "start_time": "2024-01-28T14:44:55.442762800Z"
    }
   },
   "id": "b5280f5aef5c392b",
   "execution_count": 1
  },
  {
   "cell_type": "code",
   "execution_count": 1,
   "id": "initial_id",
   "metadata": {
    "collapsed": true,
    "ExecuteTime": {
     "end_time": "2024-01-28T14:37:05.068572600Z",
     "start_time": "2024-01-28T14:37:02.588569200Z"
    }
   },
   "outputs": [
    {
     "data": {
      "text/plain": "['funny1.jpg', 'funny2.jpg']"
     },
     "execution_count": 1,
     "metadata": {},
     "output_type": "execute_result"
    }
   ],
   "source": [
    "image_dir = 'E:/Datasets/McHacks/funny_poses/funny_poses'\n",
    "save_pos_arr(image_dir, 'models/pose_arr_fun.npy')\n",
    "save_name_arr(image_dir, 'models/name_arr_fun.npy')"
   ]
  },
  {
   "cell_type": "code",
   "outputs": [],
   "source": [
    "name_arr = load_name_array('models/name_arr_fun.npy')\n",
    "pose_arr = load_pose_array('models/pose_arr_fun.npy')"
   ],
   "metadata": {
    "collapsed": false,
    "ExecuteTime": {
     "end_time": "2024-01-28T14:44:57.105640200Z",
     "start_time": "2024-01-28T14:44:57.094685400Z"
    }
   },
   "id": "647ea01929e2abca",
   "execution_count": 2
  },
  {
   "cell_type": "code",
   "outputs": [
    {
     "data": {
      "text/plain": "array([[ 0.46775118,  0.24517575, -0.47698548],\n       [ 0.53067553,  0.31365466, -0.10575362],\n       [ 0.38694334,  0.31821775, -0.22237958],\n       [ 0.61565602,  0.377655  , -0.26527673],\n       [ 0.30682909,  0.40113586, -0.21886712],\n       [ 0.65970463,  0.34575588, -0.60407627],\n       [ 0.27258968,  0.50216919, -0.24276704],\n       [ 0.46043491,  0.47654894,  0.09732889],\n       [ 0.40145776,  0.48060197, -0.09745336],\n       [ 0.50365275,  0.63439786, -0.07608512],\n       [ 0.56652141,  0.50402421, -0.33148482],\n       [ 0.41980699,  0.75436127,  0.10125016],\n       [ 0.48610866,  0.65543795, -0.10454931]])"
     },
     "execution_count": 4,
     "metadata": {},
     "output_type": "execute_result"
    }
   ],
   "source": [
    "image_path = 'E:/Datasets/McHacks/funny_poses/funny_poses/' + name_arr[1]\n",
    "draw_landmarks(image_path, pose_arr[1])"
   ],
   "metadata": {
    "collapsed": false,
    "ExecuteTime": {
     "end_time": "2024-01-28T14:45:52.241534Z",
     "start_time": "2024-01-28T14:45:38.652616500Z"
    }
   },
   "id": "eb0a9a102d28e54d",
   "execution_count": 4
  }
 ],
 "metadata": {
  "kernelspec": {
   "display_name": "Python 3",
   "language": "python",
   "name": "python3"
  },
  "language_info": {
   "codemirror_mode": {
    "name": "ipython",
    "version": 2
   },
   "file_extension": ".py",
   "mimetype": "text/x-python",
   "name": "python",
   "nbconvert_exporter": "python",
   "pygments_lexer": "ipython2",
   "version": "2.7.6"
  }
 },
 "nbformat": 4,
 "nbformat_minor": 5
}
