{
 "cells": [
  {
   "cell_type": "code",
   "execution_count": null,
   "id": "initial_id",
   "metadata": {
    "collapsed": true
   },
   "outputs": [],
   "source": [
    "from data_transformation.landmark_utils import *\n",
    "import numpy as np\n",
    "image_dir = '../images'\n",
    "save_pos_arr(image_dir, 'models/pose_arr2.npy')\n",
    "save_name_arr(image_dir, 'models/name_arr2.npy')"
   ]
  },
  {
   "cell_type": "code",
   "outputs": [],
   "source": [
    "name_arr = load_name_array('models/name_arr2.npy')\n",
    "pose_arr = load_pose_array('models/pose_arr2.npy')\n",
    "\n",
    "draw_landmarks(name_arr[0], pose_arr[0])"
   ],
   "metadata": {
    "collapsed": false
   },
   "id": "647ea01929e2abca"
  }
 ],
 "metadata": {
  "kernelspec": {
   "display_name": "Python 3",
   "language": "python",
   "name": "python3"
  },
  "language_info": {
   "codemirror_mode": {
    "name": "ipython",
    "version": 2
   },
   "file_extension": ".py",
   "mimetype": "text/x-python",
   "name": "python",
   "nbconvert_exporter": "python",
   "pygments_lexer": "ipython2",
   "version": "2.7.6"
  }
 },
 "nbformat": 4,
 "nbformat_minor": 5
}
